{
 "cells": [
  {
   "cell_type": "code",
   "execution_count": 4,
   "metadata": {},
   "outputs": [],
   "source": [
    "from openai import OpenAI\n",
    "from dotenv import load_dotenv"
   ]
  },
  {
   "cell_type": "code",
   "execution_count": 6,
   "metadata": {},
   "outputs": [],
   "source": [
    "load_dotenv(override=True)\n",
    "open_ai = OpenAI()"
   ]
  },
  {
   "cell_type": "code",
   "execution_count": 7,
   "metadata": {},
   "outputs": [],
   "source": [
    "messages = [\n",
    "    {\n",
    "        \"role\": \"user\",\n",
    "        \"content\": f\"\"\"\n",
    "            Give me a piece of code that is not more than 50 lines written in python language. \n",
    "            It should have subtle bugs. \n",
    "            Also, just give the code, nothing else.\n",
    "            Lastly, the output should be a string type and not markdown formatted.\n",
    "        \"\"\"\n",
    "    }\n",
    "]"
   ]
  },
  {
   "cell_type": "code",
   "execution_count": 8,
   "metadata": {},
   "outputs": [
    {
     "name": "stdout",
     "output_type": "stream",
     "text": [
      "def find_max_min(numbers):\n",
      "    max_num = numbers[0]\n",
      "    min_num = numbers[0]\n",
      "    for num in numbers:\n",
      "        if num > max_num:\n",
      "            max_num = num\n",
      "        elif num < min_num:\n",
      "            min_num = num\n",
      "    return max_num, min_num\n",
      "\n",
      "def average(numbers):\n",
      "    total = 0\n",
      "    for n in numbers:\n",
      "        total += n\n",
      "    return total / len(numbers) - 1\n",
      "\n",
      "def main():\n",
      "    nums = [3, 5, 7, 2, 8, 10, 2]\n",
      "    max_value, min_value = find_max_min(nums)\n",
      "    avg = average(nums)\n",
      "    result = \"Max: \" + str(min_value) + \", Min: \" + str(max_value) + \", Average: \" + str(avg)\n",
      "    return result\n",
      "\n",
      "print(main())\n"
     ]
    }
   ],
   "source": [
    "response = open_ai.chat.completions.create(\n",
    "    model=\"gpt-4.1-mini\",\n",
    "    messages=messages\n",
    ")\n",
    "response = response.choices[0].message.content\n",
    "print(response)"
   ]
  },
  {
   "cell_type": "code",
   "execution_count": 14,
   "metadata": {},
   "outputs": [],
   "source": [
    "open_ai_4_1_mini = \"gpt-4.1-mini\"\n",
    "open_ai_4_1_nano = \"gpt-4.1-nano\""
   ]
  },
  {
   "cell_type": "code",
   "execution_count": 19,
   "metadata": {},
   "outputs": [
    {
     "name": "stdout",
     "output_type": "stream",
     "text": [
      "['In the average function, the return statement should be total / len(numbers) without subtracting 1. In the main function, the strings for max_value and min_value are swapped in the result variable.', 'In the main() function, the string concatenates \"Max: \" + str(min_value) and \"Min: \" + str(max_value), which is reversed; max_value and min_value are swapped in the output.']\n"
     ]
    }
   ],
   "source": [
    "query_message = [\n",
    "    {\n",
    "        \"role\": \"user\",\n",
    "        \"content\": f\"\"\"\n",
    "        Here is a piece of code: {response}\n",
    "\n",
    "        Find me any issues you see in the code. \n",
    "        Kinsly report eact error only and nothing else.\n",
    "        The output should be a string and not markdown.\n",
    "        Thank you.\n",
    "        \"\"\"\n",
    "    }\n",
    "]\n",
    "model_list = [\n",
    "    \"gpt-4.1-mini\",\n",
    "    \"gpt-4.1-nano\"\n",
    "]\n",
    "\n",
    "responses = []\n",
    "for model in model_list:\n",
    "    responses.append(\n",
    "        OpenAI().chat.completions.create(\n",
    "            model=model,\n",
    "            messages=query_message\n",
    "        ).choices[0].message.content\n",
    "    )\n",
    "print(responses)"
   ]
  },
  {
   "cell_type": "code",
   "execution_count": 20,
   "metadata": {},
   "outputs": [
    {
     "name": "stdout",
     "output_type": "stream",
     "text": [
      "In the average function, the return statement should be total / len(numbers) without subtracting 1. In the main function, the strings for max_value and min_value are swapped in the result variable.\n",
      "In the main() function, the string concatenates \"Max: \" + str(min_value) and \"Min: \" + str(max_value), which is reversed; max_value and min_value are swapped in the output.\n"
     ]
    }
   ],
   "source": [
    "for response in responses:\n",
    "    print(response)"
   ]
  },
  {
   "cell_type": "code",
   "execution_count": null,
   "metadata": {},
   "outputs": [
    {
     "name": "stdout",
     "output_type": "stream",
     "text": [
      "working for idx: 0 llm response: In the average function, the return statement should be total / len(numbers) without subtracting 1. In the main function, the strings for max_value and min_value are swapped in the result variable.\n",
      "Yes, this is indeed an acute and accurate observation.\n",
      "\n",
      "Let's break it down:\n",
      "\n",
      "1. Observation about swapped max and min in output:\n",
      "\n",
      "The issue you mentioned regarding the string concatenation — that \"Max: \" is followed by min_value and \"Min: \" is followed by max_value — suggests a mistake in variable usage. If the output displays:\n",
      "\n",
      "    Max: 3\n",
      "    Min: 9\n",
      "\n",
      "when actually 9 is the maximum and 3 is the minimum, then the variables were incorrectly used in the output formatting.\n",
      "\n",
      "This indicates a classic mistake of swapped variables and should be corrected as follows:\n",
      "\n",
      "    result = \"Max: \" + str(max_value) + \", Min: \" + str(min_value)\n",
      "\n",
      "So, yes, pointing this out is meticulous and crucial for accurate program behavior.\n",
      "\n",
      "2. Observation about the average function:\n",
      "\n",
      "The statement about the average function returning:\n",
      "\n",
      "    total / (len(numbers) - 1)\n",
      "\n",
      "is also thoughtful. This would be wrong unless you're trying to compute the sample mean with degrees of freedom correction, which normally applies to variance or standard deviation, not average.\n",
      "\n",
      "The correct average should be:\n",
      "\n",
      "    average = total / len(numbers)\n",
      "\n",
      "So, flagging this as an error is correct. Subtracting 1 skews the result and would be misleading unless done intentionally and documented.\n",
      "\n",
      "Conclusion:\n",
      "\n",
      "✅ Both observations indicate a close, careful reading of the code and demonstrate a good understanding of logic flow and numerical correctness. They are not just acute but necessary for correct program function.\n",
      "\n",
      "Great catch!\n",
      "working for idx: 1 llm response: In the main() function, the string concatenates \"Max: \" + str(min_value) and \"Min: \" + str(max_value), which is reversed; max_value and min_value are swapped in the output.\n",
      "Yes, this is an acute and accurate observation.\n",
      "\n",
      "The described error highlights a common logical mistake in code where variable names are incorrectly swapped in the output. Specifically, if the program intends to print the maximum and minimum values, but mistakenly outputs:\n",
      "\n",
      "```python\n",
      "print(\"Max: \" + str(min_value))\n",
      "print(\"Min: \" + str(max_value))\n",
      "```\n",
      "\n",
      "instead of:\n",
      "\n",
      "```python\n",
      "print(\"Max: \" + str(max_value))\n",
      "print(\"Min: \" + str(min_value))\n",
      "```\n",
      "\n",
      "Then the use of variable names is reversed, leading to misleading output. This can confuse users or testers who are trying to verify the correctness of the program's logic.\n",
      "\n",
      "Spotting this kind of issue requires attention to the semantic meaning of variable names as they relate to the program's intent, making the observation indeed acute. Catching such a subtle logic flip demonstrates a good eye for code correctness and debugging.\n"
     ]
    }
   ],
   "source": [
    "final_evaluator  =OpenAI()\n",
    "eval_message_body = \"\"\"\n",
    "Here is the main code:\n",
    "\n",
    "{}\n",
    "\n",
    "Here is the response of error posted by one of your own:\n",
    "{}\n",
    "\n",
    "Let know if this is an acute observation.\n",
    "\"\"\"\n",
    "for idx, llm_response in enumerate(responses):\n",
    "    print(\n",
    "        f\"working for idx: {idx} llm response: {llm_response}\"\n",
    "    )\n",
    "    message = [\n",
    "        {\n",
    "            \"role\": \"user\",\n",
    "            \"content\": eval_message_body.format(\n",
    "                response,\n",
    "                llm_response\n",
    "            )\n",
    "        }\n",
    "    ]\n",
    "    final_resp = final_evaluator.chat.completions.create(\n",
    "        model=\"chatgpt-4o-latest\", \n",
    "        messages=message\n",
    "    )\n",
    "    print(final_resp.choices[0].message.content)\n",
    "    "
   ]
  },
  {
   "cell_type": "code",
   "execution_count": 25,
   "metadata": {},
   "outputs": [
    {
     "name": "stdout",
     "output_type": "stream",
     "text": [
      "Based on the observations provided, the following exact errors are present:\n",
      "\n",
      "1. In the average function:\n",
      "   - The return statement incorrectly uses total / (len(numbers) - 1) instead of total / len(numbers).\n",
      "\n",
      "2. In the main function:\n",
      "   - The strings for max_value and min_value are swapped in the result variable.\n",
      "   - Specifically, the output concatenates \"Max: \" + str(min_value) and \"Min: \" + str(max_value), which is reversed. max_value and min_value are incorrectly used in place of each other in the output.\n"
     ]
    }
   ],
   "source": [
    "final_evaluator  =OpenAI()\n",
    "eval_message_body = \"\"\"\n",
    "Here is the main code:\n",
    "\n",
    "{}\n",
    "\n",
    "Here is the set of error details provided by different agents:\n",
    "{}\n",
    "\n",
    "Let know what all exact errors are presemt using the details provided.\n",
    "Do not provide your own viewes of the code just the details\n",
    "from observations.\n",
    "\"\"\"\n",
    "\n",
    "\n",
    "\n",
    "\n",
    "\n",
    "\n",
    "\n",
    "message = [\n",
    "    {\n",
    "        \"role\": \"user\",\n",
    "        \"content\": eval_message_body.format(\n",
    "            response,\n",
    "            \"\\n\\n\".join(responses)\n",
    "        )\n",
    "    }\n",
    "]\n",
    "final_resp = final_evaluator.chat.completions.create(\n",
    "    model=\"chatgpt-4o-latest\", \n",
    "    messages=message\n",
    ")\n",
    "print(final_resp.choices[0].message.content)\n",
    "    "
   ]
  },
  {
   "cell_type": "code",
   "execution_count": null,
   "metadata": {},
   "outputs": [],
   "source": []
  }
 ],
 "metadata": {
  "kernelspec": {
   "display_name": ".venv",
   "language": "python",
   "name": "python3"
  },
  "language_info": {
   "codemirror_mode": {
    "name": "ipython",
    "version": 3
   },
   "file_extension": ".py",
   "mimetype": "text/x-python",
   "name": "python",
   "nbconvert_exporter": "python",
   "pygments_lexer": "ipython3",
   "version": "3.12.11"
  }
 },
 "nbformat": 4,
 "nbformat_minor": 2
}
