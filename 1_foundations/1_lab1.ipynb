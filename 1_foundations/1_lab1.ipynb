{
 "cells": [
  {
   "cell_type": "markdown",
   "metadata": {},
   "source": [
    "# Welcome to the start of your adventure in Agentic AI"
   ]
  },
  {
   "cell_type": "markdown",
   "metadata": {},
   "source": [
    "<table style=\"margin: 0; text-align: left; width:100%\">\n",
    "    <tr>\n",
    "        <td style=\"width: 150px; height: 150px; vertical-align: middle;\">\n",
    "            <img src=\"../assets/stop.png\" width=\"150\" height=\"150\" style=\"display: block;\" />\n",
    "        </td>\n",
    "        <td>\n",
    "            <h2 style=\"color:#ff7800;\">Are you ready for action??</h2>\n",
    "            <span style=\"color:#ff7800;\">Have you completed all the setup steps in the <a href=\"../setup/\">setup</a> folder?<br/>\n",
    "            Have you read the <a href=\"../README.md\">README</a>? Many common questions are answered here!<br/>\n",
    "            Have you checked out the guides in the <a href=\"../guides/01_intro.ipynb\">guides</a> folder?<br/>\n",
    "            Well in that case, you're ready!!\n",
    "            </span>\n",
    "        </td>\n",
    "    </tr>\n",
    "</table>"
   ]
  },
  {
   "cell_type": "markdown",
   "metadata": {},
   "source": [
    "<table style=\"margin: 0; text-align: left; width:100%\">\n",
    "    <tr>\n",
    "        <td style=\"width: 150px; height: 150px; vertical-align: middle;\">\n",
    "            <img src=\"../assets/tools.png\" width=\"150\" height=\"150\" style=\"display: block;\" />\n",
    "        </td>\n",
    "        <td>\n",
    "            <h2 style=\"color:#00bfff;\">This code is a live resource - keep an eye out for my updates</h2>\n",
    "            <span style=\"color:#00bfff;\">I push updates regularly. As people ask questions or have problems, I add more examples and improve explanations. As a result, the code below might not be identical to the videos, as I've added more steps and better comments. Consider this like an interactive book that accompanies the lectures.<br/><br/>\n",
    "            I try to send emails regularly with important updates related to the course. You can find this in the 'Announcements' section of Udemy in the left sidebar. You can also choose to receive my emails via your Notification Settings in Udemy. I'm respectful of your inbox and always try to add value with my emails!\n",
    "            </span>\n",
    "        </td>\n",
    "    </tr>\n",
    "</table>"
   ]
  },
  {
   "cell_type": "markdown",
   "metadata": {},
   "source": [
    "### And please do remember to contact me if I can help\n",
    "\n",
    "And I love to connect: https://www.linkedin.com/in/eddonner/\n",
    "\n",
    "\n",
    "### New to Notebooks like this one? Head over to the guides folder!\n",
    "\n",
    "Just to check you've already added the Python and Jupyter extensions to Cursor, if not already installed:\n",
    "- Open extensions (View >> extensions)\n",
    "- Search for python, and when the results show, click on the ms-python one, and Install it if not already installed\n",
    "- Search for jupyter, and when the results show, click on the Microsoft one, and Install it if not already installed  \n",
    "Then View >> Explorer to bring back the File Explorer.\n",
    "\n",
    "And then:\n",
    "1. Click where it says \"Select Kernel\" near the top right, and select the option called `.venv (Python 3.12.9)` or similar, which should be the first choice or the most prominent choice. You may need to choose \"Python Environments\" first.\n",
    "2. Click in each \"cell\" below, starting with the cell immediately below this text, and press Shift+Enter to run\n",
    "3. Enjoy!\n",
    "\n",
    "After you click \"Select Kernel\", if there is no option like `.venv (Python 3.12.9)` then please do the following:  \n",
    "1. On Mac: From the Cursor menu, choose Settings >> VS Code Settings (NOTE: be sure to select `VSCode Settings` not `Cursor Settings`);  \n",
    "On Windows PC: From the File menu, choose Preferences >> VS Code Settings(NOTE: be sure to select `VSCode Settings` not `Cursor Settings`)  \n",
    "2. In the Settings search bar, type \"venv\"  \n",
    "3. In the field \"Path to folder with a list of Virtual Environments\" put the path to the project root, like C:\\Users\\username\\projects\\agents (on a Windows PC) or /Users/username/projects/agents (on Mac or Linux).  \n",
    "And then try again.\n",
    "\n",
    "Having problems with missing Python versions in that list? Have you ever used Anaconda before? It might be interferring. Quit Cursor, bring up a new command line, and make sure that your Anaconda environment is deactivated:    \n",
    "`conda deactivate`  \n",
    "And if you still have any problems with conda and python versions, it's possible that you will need to run this too:  \n",
    "`conda config --set auto_activate_base false`  \n",
    "and then from within the Agents directory, you should be able to run `uv python list` and see the Python 3.12 version."
   ]
  },
  {
   "cell_type": "code",
   "execution_count": 22,
   "metadata": {},
   "outputs": [],
   "source": [
    "# First let's do an import. If you get an Import Error, double check that your Kernel is correct..\n",
    "\n",
    "from dotenv import load_dotenv\n"
   ]
  },
  {
   "cell_type": "code",
   "execution_count": 23,
   "metadata": {},
   "outputs": [
    {
     "data": {
      "text/plain": [
       "True"
      ]
     },
     "execution_count": 23,
     "metadata": {},
     "output_type": "execute_result"
    }
   ],
   "source": [
    "# Next it's time to load the API keys into environment variables\n",
    "# If this returns false, see the next cell!\n",
    "\n",
    "load_dotenv(override=True)"
   ]
  },
  {
   "cell_type": "markdown",
   "metadata": {},
   "source": [
    "### Wait, did that just output `False`??\n",
    "\n",
    "If so, the most common reason is that you didn't save your `.env` file after adding the key! Be sure to have saved.\n",
    "\n",
    "Also, make sure the `.env` file is named precisely `.env` and is in the project root directory (`agents`)\n",
    "\n",
    "By the way, your `.env` file should have a stop symbol next to it in Cursor on the left, and that's actually a good thing: that's Cursor saying to you, \"hey, I realize this is a file filled with secret information, and I'm not going to send it to an external AI to suggest changes, because your keys should not be shown to anyone else.\""
   ]
  },
  {
   "cell_type": "markdown",
   "metadata": {},
   "source": [
    "<table style=\"margin: 0; text-align: left; width:100%\">\n",
    "    <tr>\n",
    "        <td style=\"width: 150px; height: 150px; vertical-align: middle;\">\n",
    "            <img src=\"../assets/stop.png\" width=\"150\" height=\"150\" style=\"display: block;\" />\n",
    "        </td>\n",
    "        <td>\n",
    "            <h2 style=\"color:#ff7800;\">Final reminders</h2>\n",
    "            <span style=\"color:#ff7800;\">1. If you're not confident about Environment Variables or Web Endpoints / APIs, please read Topics 3 and 5 in this <a href=\"../guides/04_technical_foundations.ipynb\">technical foundations guide</a>.<br/>\n",
    "            2. If you want to use AIs other than OpenAI, like Gemini, DeepSeek or Ollama (free), please see the first section in this <a href=\"../guides/09_ai_apis_and_ollama.ipynb\">AI APIs guide</a>.<br/>\n",
    "            3. If you ever get a Name Error in Python, you can always fix it immediately; see the last section of this <a href=\"../guides/06_python_foundations.ipynb\">Python Foundations guide</a> and follow both tutorials and exercises.<br/>\n",
    "            </span>\n",
    "        </td>\n",
    "    </tr>\n",
    "</table>"
   ]
  },
  {
   "cell_type": "code",
   "execution_count": 24,
   "metadata": {},
   "outputs": [
    {
     "name": "stdout",
     "output_type": "stream",
     "text": [
      "OpenAI API Key exists and begins sk-proj-\n"
     ]
    }
   ],
   "source": [
    "# Check the key - if you're not using OpenAI, check whichever key you're using! Ollama doesn't need a key.\n",
    "\n",
    "import os\n",
    "openai_api_key = os.getenv('OPENAI_API_KEY')\n",
    "\n",
    "if openai_api_key:\n",
    "    print(f\"OpenAI API Key exists and begins {openai_api_key[:8]}\")\n",
    "else:\n",
    "    print(\"OpenAI API Key not set - please head to the troubleshooting guide in the setup folder\")\n",
    "    \n"
   ]
  },
  {
   "cell_type": "code",
   "execution_count": 25,
   "metadata": {},
   "outputs": [],
   "source": [
    "# And now - the all important import statement\n",
    "# If you get an import error - head over to troubleshooting in the Setup folder\n",
    "# Even for other LLM providers like Gemini, you still use this OpenAI import - see Guide 9 for why\n",
    "\n",
    "from openai import OpenAI"
   ]
  },
  {
   "cell_type": "code",
   "execution_count": 26,
   "metadata": {},
   "outputs": [],
   "source": [
    "# And now we'll create an instance of the OpenAI class\n",
    "# If you're not sure what it means to create an instance of a class - head over to the guides folder (guide 6)!\n",
    "# If you get a NameError - head over to the guides folder (guide 6)to learn about NameErrors - always instantly fixable\n",
    "# If you're not using OpenAI, you just need to slightly modify this - precise instructions are in the AI APIs guide (guide 9)\n",
    "\n",
    "openai = OpenAI()"
   ]
  },
  {
   "cell_type": "code",
   "execution_count": 27,
   "metadata": {},
   "outputs": [],
   "source": [
    "# Create a list of messages in the familiar OpenAI format\n",
    "\n",
    "messages = [{\"role\": \"user\", \"content\": \"What is 2+2?\"}]"
   ]
  },
  {
   "cell_type": "code",
   "execution_count": 28,
   "metadata": {},
   "outputs": [
    {
     "name": "stdout",
     "output_type": "stream",
     "text": [
      "2 + 2 equals 4.\n"
     ]
    }
   ],
   "source": [
    "# And now call it! Any problems, head to the troubleshooting guide\n",
    "# This uses GPT 4.1 nano, the incredibly cheap model\n",
    "# The APIs guide (guide 9) has exact instructions for using even cheaper or free alternatives to OpenAI\n",
    "# If you get a NameError, head to the guides folder (guide 6) to learn about NameErrors - always instantly fixable\n",
    "\n",
    "response = openai.chat.completions.create(\n",
    "    model=\"gpt-4.1-nano\",\n",
    "    messages=messages\n",
    ")\n",
    "\n",
    "print(response.choices[0].message.content)\n"
   ]
  },
  {
   "cell_type": "code",
   "execution_count": 29,
   "metadata": {},
   "outputs": [],
   "source": [
    "# And now - let's ask for a question:\n",
    "\n",
    "question = \"Please propose a hard, challenging question to assess someone's IQ. Respond only with the question.\"\n",
    "messages = [{\"role\": \"user\", \"content\": question}]\n"
   ]
  },
  {
   "cell_type": "code",
   "execution_count": 30,
   "metadata": {},
   "outputs": [
    {
     "name": "stdout",
     "output_type": "stream",
     "text": [
      "If it takes 5 machines 5 minutes to make 5 widgets, how long would it take 100 machines to make 100 widgets?\n"
     ]
    }
   ],
   "source": [
    "# ask it - this uses GPT 4.1 mini, still cheap but more powerful than nano\n",
    "\n",
    "response = openai.chat.completions.create(\n",
    "    model=\"gpt-4.1-mini\",\n",
    "    messages=messages\n",
    ")\n",
    "\n",
    "question = response.choices[0].message.content\n",
    "\n",
    "print(question)\n"
   ]
  },
  {
   "cell_type": "code",
   "execution_count": 31,
   "metadata": {},
   "outputs": [],
   "source": [
    "# form a new messages list\n",
    "messages = [{\"role\": \"user\", \"content\": question}]\n"
   ]
  },
  {
   "cell_type": "code",
   "execution_count": 32,
   "metadata": {},
   "outputs": [
    {
     "name": "stdout",
     "output_type": "stream",
     "text": [
      "Let's analyze the problem step-by-step:\n",
      "\n",
      "- **Given:**  \n",
      "  5 machines take 5 minutes to make 5 widgets.\n",
      "\n",
      "- **Step 1: Find the rate of one machine.**  \n",
      "  Since 5 machines make 5 widgets in 5 minutes, the total output rate is:\n",
      "  \n",
      "  \\[\n",
      "  \\frac{5 \\text{ widgets}}{5 \\text{ minutes}} = 1 \\text{ widget per minute (total for all 5 machines)}\n",
      "  \\]\n",
      "  \n",
      "  Therefore, the combined rate of 5 machines is 1 widget/minute.\n",
      "  \n",
      "- **Step 2: Rate per machine:**  \n",
      "  \\[\n",
      "  \\text{Rate per machine} = \\frac{1 \\text{ widget/min}}{5 \\text{ machines}} = \\frac{1}{5} \\text{ widget per machine per minute}\n",
      "  \\]\n",
      "\n",
      "- **Step 3: For 100 machines, total rate is:**  \n",
      "  \\[\n",
      "  100 \\times \\frac{1}{5} = 20 \\text{ widgets per minute}\n",
      "  \\]\n",
      "\n",
      "- **Step 4: Time to make 100 widgets with 100 machines:**  \n",
      "  \\[\n",
      "  \\text{Time} = \\frac{\\text{Number of widgets}}{\\text{Rate}} = \\frac{100}{20} = 5 \\text{ minutes}\n",
      "  \\]\n",
      "\n",
      "**Answer:** It will take **5 minutes** for 100 machines to make 100 widgets.\n"
     ]
    }
   ],
   "source": [
    "# Ask it again\n",
    "\n",
    "response = openai.chat.completions.create(\n",
    "    model=\"gpt-4.1-mini\",\n",
    "    messages=messages\n",
    ")\n",
    "\n",
    "answer = response.choices[0].message.content\n",
    "print(answer)\n"
   ]
  },
  {
   "cell_type": "code",
   "execution_count": 33,
   "metadata": {},
   "outputs": [
    {
     "data": {
      "text/markdown": [
       "Let's analyze the problem step-by-step:\n",
       "\n",
       "- **Given:**  \n",
       "  5 machines take 5 minutes to make 5 widgets.\n",
       "\n",
       "- **Step 1: Find the rate of one machine.**  \n",
       "  Since 5 machines make 5 widgets in 5 minutes, the total output rate is:\n",
       "  \n",
       "  \\[\n",
       "  \\frac{5 \\text{ widgets}}{5 \\text{ minutes}} = 1 \\text{ widget per minute (total for all 5 machines)}\n",
       "  \\]\n",
       "  \n",
       "  Therefore, the combined rate of 5 machines is 1 widget/minute.\n",
       "  \n",
       "- **Step 2: Rate per machine:**  \n",
       "  \\[\n",
       "  \\text{Rate per machine} = \\frac{1 \\text{ widget/min}}{5 \\text{ machines}} = \\frac{1}{5} \\text{ widget per machine per minute}\n",
       "  \\]\n",
       "\n",
       "- **Step 3: For 100 machines, total rate is:**  \n",
       "  \\[\n",
       "  100 \\times \\frac{1}{5} = 20 \\text{ widgets per minute}\n",
       "  \\]\n",
       "\n",
       "- **Step 4: Time to make 100 widgets with 100 machines:**  \n",
       "  \\[\n",
       "  \\text{Time} = \\frac{\\text{Number of widgets}}{\\text{Rate}} = \\frac{100}{20} = 5 \\text{ minutes}\n",
       "  \\]\n",
       "\n",
       "**Answer:** It will take **5 minutes** for 100 machines to make 100 widgets."
      ],
      "text/plain": [
       "<IPython.core.display.Markdown object>"
      ]
     },
     "metadata": {},
     "output_type": "display_data"
    }
   ],
   "source": [
    "from IPython.display import Markdown, display\n",
    "\n",
    "display(Markdown(answer))\n",
    "\n"
   ]
  },
  {
   "cell_type": "markdown",
   "metadata": {},
   "source": [
    "# Congratulations!\n",
    "\n",
    "That was a small, simple step in the direction of Agentic AI, with your new environment!\n",
    "\n",
    "Next time things get more interesting..."
   ]
  },
  {
   "cell_type": "markdown",
   "metadata": {},
   "source": [
    "<table style=\"margin: 0; text-align: left; width:100%\">\n",
    "    <tr>\n",
    "        <td style=\"width: 150px; height: 150px; vertical-align: middle;\">\n",
    "            <img src=\"../assets/exercise.png\" width=\"150\" height=\"150\" style=\"display: block;\" />\n",
    "        </td>\n",
    "        <td>\n",
    "            <h2 style=\"color:#ff7800;\">Exercise</h2>\n",
    "            <span style=\"color:#ff7800;\">Now try this commercial application:<br/>\n",
    "            First ask the LLM to pick a business area that might be worth exploring for an Agentic AI opportunity.<br/>\n",
    "            Then ask the LLM to present a pain-point in that industry - something challenging that might be ripe for an Agentic solution.<br/>\n",
    "            Finally have 3 third LLM call propose the Agentic AI solution. <br/>\n",
    "            We will cover this at up-coming labs, so don't worry if you're unsure.. just give it a try!\n",
    "            </span>\n",
    "        </td>\n",
    "    </tr>\n",
    "</table>"
   ]
  },
  {
   "cell_type": "code",
   "execution_count": 35,
   "metadata": {},
   "outputs": [
    {
     "name": "stdout",
     "output_type": "stream",
     "text": [
      "Absolutely! Exploring agentic AI by applying it to a specific business area is a smart approach. Agentic AI—intelligent systems that can perceive, reason, and take autonomous actions to achieve goals—can add significant value in many industries.\n",
      "\n",
      "Here are some promising business areas where agentic AI could have strong impact:\n",
      "\n",
      "1. **Healthcare**\n",
      "   - Autonomous patient monitoring and alerts\n",
      "   - Personalized treatment planning\n",
      "   - Intelligent diagnostics assistants\n",
      "   - Automated administrative workflows\n",
      "   \n",
      "2. **Finance**\n",
      "   - Autonomous trading systems\n",
      "   - Fraud detection and prevention agents\n",
      "   - Personalized financial advisory bots\n",
      "   - Credit risk assessment\n",
      "\n",
      "3. **Supply Chain and Logistics**\n",
      "   - Dynamic route optimization agents\n",
      "   - Inventory management with autonomous restocking\n",
      "   - Predictive maintenance for vehicles/equipment\n",
      "   - Automated procurement agents\n",
      "\n",
      "4. **Customer Service and Support**\n",
      "   - AI agents handling complex queries autonomously\n",
      "   - Proactive engagement based on customer behavior\n",
      "   - Multimodal support (voice, chat, email) bots\n",
      "\n",
      "5. **Real Estate**\n",
      "   - Autonomous property evaluation and pricing\n",
      "   - Intelligent lead qualification and follow-up\n",
      "   - Personalized neighborhood recommendations\n",
      "\n",
      "6. **Manufacturing**\n",
      "   - Autonomous quality control inspection\n",
      "   - Robotics for adaptive assembly lines\n",
      "   - Predictive maintenance and process optimization\n",
      "   \n",
      "7. **Marketing and Sales**\n",
      "   - Autonomous lead nurturing agents\n",
      "   - Real-time market trend analysis\n",
      "   - Personalized dynamic campaign management\n",
      "\n",
      "If you have a particular interest or background, I can help tailor suggestions. Also, consider the data availability, regulatory environment, and how much autonomy you want the AI to have. Which direction sounds most exciting to you?\n"
     ]
    }
   ],
   "source": [
    "# First create the messages:\n",
    "\n",
    "messages = [\n",
    "    {\n",
    "        \"role\": \"user\",\n",
    "        \"content\": \"Boss, I want to explore agentic AI and to do so thinking to pickup a business area. Can you help me find one?\"\n",
    "    }\n",
    "]\n",
    "\n",
    "# Then make the first call:\n",
    "response = openai.chat.completions.create(\n",
    "    model=\"gpt-4.1-mini\",\n",
    "    messages=messages\n",
    ")\n",
    "\n",
    "# Then read the business idea:\n",
    "\n",
    "business_idea = response.choices[0].message.content\n",
    "\n",
    "print(business_idea)\n",
    "\n",
    "# And repeat! In the next message, include the business idea within the message"
   ]
  },
  {
   "cell_type": "markdown",
   "metadata": {},
   "source": []
  },
  {
   "cell_type": "code",
   "execution_count": 39,
   "metadata": {},
   "outputs": [
    {
     "name": "stdout",
     "output_type": "stream",
     "text": [
      "Absolutely! Exploring agentic AI by applying it to a specific business area is a smart approach. Agentic AI—intelligent systems that can perceive, reason, and take autonomous actions to achieve goals—can add significant value in many industries.\n",
      "\n",
      "Here are some promising business areas where agentic AI could have strong impact:\n",
      "\n",
      "1. **Healthcare**\n",
      "   - Autonomous patient monitoring and alerts\n",
      "   - Personalized treatment planning\n",
      "   - Intelligent diagnostics assistants\n",
      "   - Automated administrative workflows\n",
      "   \n",
      "2. **Finance**\n",
      "   - Autonomous trading systems\n",
      "   - Fraud detection and prevention agents\n",
      "   - Personalized financial advisory bots\n",
      "   - Credit risk assessment\n",
      "\n",
      "3. **Supply Chain and Logistics**\n",
      "   - Dynamic route optimization agents\n",
      "   - Inventory management with autonomous restocking\n",
      "   - Predictive maintenance for vehicles/equipment\n",
      "   - Automated procurement agents\n",
      "\n",
      "4. **Customer Service and Support**\n",
      "   - AI agents handling complex queries autonomously\n",
      "   - Proactive engagement based on customer behavior\n",
      "   - Multimodal support (voice, chat, email) bots\n",
      "\n",
      "5. **Real Estate**\n",
      "   - Autonomous property evaluation and pricing\n",
      "   - Intelligent lead qualification and follow-up\n",
      "   - Personalized neighborhood recommendations\n",
      "\n",
      "6. **Manufacturing**\n",
      "   - Autonomous quality control inspection\n",
      "   - Robotics for adaptive assembly lines\n",
      "   - Predictive maintenance and process optimization\n",
      "   \n",
      "7. **Marketing and Sales**\n",
      "   - Autonomous lead nurturing agents\n",
      "   - Real-time market trend analysis\n",
      "   - Personalized dynamic campaign management\n",
      "\n",
      "If you have a particular interest or background, I can help tailor suggestions. Also, consider the data availability, regulatory environment, and how much autonomy you want the AI to have. Which direction sounds most exciting to you?\n"
     ]
    }
   ],
   "source": [
    "print(business_idea)"
   ]
  },
  {
   "cell_type": "code",
   "execution_count": 40,
   "metadata": {},
   "outputs": [
    {
     "name": "stdout",
     "output_type": "stream",
     "text": [
      "Sure! Focusing on **Finance**, one major pain point that agentic AI can help resolve is **fraud detection and prevention**.\n",
      "\n",
      "### Pain Point: Fraud Detection and Prevention\n",
      "Financial institutions constantly struggle with detecting fraudulent transactions and activities in real-time. Traditional rule-based systems often generate many false positives, leading to friction for genuine customers, or they fail to catch sophisticated fraud patterns quickly enough, causing financial losses and reputational damage.\n",
      "\n",
      "### How Agentic AI Helps:\n",
      "Agentic AI systems can autonomously perceive transaction data, reason about patterns, and take actions without waiting for human intervention. For example:\n",
      "\n",
      "- **Continuous Monitoring:** The AI agent can monitor millions of transactions in real-time across various channels (credit cards, online banking, wire transfers).\n",
      "- **Adaptive Learning:** By reasoning about evolving fraud tactics and contextual data (user behavior, device fingerprints, geolocation), the agent can refine its detection models on the fly.\n",
      "- **Automated Response:** Once suspicious activity is detected, the AI can autonomously trigger preventive actions such as temporarily freezing accounts, initiating multi-factor authentication requests, or alerting fraud teams only for genuinely high-risk cases.\n",
      "- **False Positive Reduction:** By intelligently understanding customer behavior and transaction context, agentic AI reduces false alarms, improving customer experience.\n",
      "\n",
      "This autonomous, goal-driven fraud detection approach improves security, reduces losses, and enhances the customer journey, making it a highly valuable application of agentic AI in finance. Would you like me to explore another area within finance or detail another use case?\n"
     ]
    }
   ],
   "source": [
    "messages = [\n",
    "    {\n",
    "        \"role\": \"user\",\n",
    "        \"content\": f\"pick finance from {business_idea} and explain me one pain point that can be resolved using agentic ai.\"\n",
    "    }\n",
    "]\n",
    "response = openai.chat.completions.create(\n",
    "    model=\"gpt-4.1-mini\",\n",
    "    messages=messages\n",
    ")\n",
    "pain_point = response.choices[0].message.content\n",
    "print(pain_point)"
   ]
  },
  {
   "cell_type": "code",
   "execution_count": 41,
   "metadata": {},
   "outputs": [],
   "source": [
    "messages=[\n",
    "    {\n",
    "        \"role\":\"user\",\n",
    "        \"content\": f\"based on the idea in the {response}, propose me an agentic ai solution to help develop\"\n",
    "    }\n",
    "]\n",
    "response = openai.chat.completions.create(\n",
    "    model=\"gpt-4.1-mini\",\n",
    "    messages = messages\n",
    ")\n",
    "final_op = response.choices[0].message.content"
   ]
  },
  {
   "cell_type": "code",
   "execution_count": 42,
   "metadata": {},
   "outputs": [
    {
     "name": "stdout",
     "output_type": "stream",
     "text": [
      "Certainly! To tailor an agentic AI solution tailored to development (assuming you mean software development or product development), here's a proposal:\n",
      "\n",
      "---\n",
      "\n",
      "### Agentic AI Solution for Software Development: Autonomous Code Review and Bug Detection\n",
      "\n",
      "#### Pain Point:\n",
      "Software development teams often face delays and quality issues due to insufficient or slow code reviews and bug detection. Manual code reviews are time-consuming, prone to human error, and inconsistent across reviewers. Bugs detected late in the cycle increase costs and impact release schedules.\n",
      "\n",
      "#### How Agentic AI Can Help:\n",
      "\n",
      "An agentic AI system that autonomously oversees code quality could revolutionize the software development lifecycle by performing continuous and context-aware code analysis, feedback, and remediation actions.\n",
      "\n",
      "---\n",
      "\n",
      "### Features of the Proposed Agentic AI:\n",
      "\n",
      "1. **Continuous Code Monitoring:**  \n",
      "   The agent listens for new code commits across repositories and branches in real-time.\n",
      "\n",
      "2. **Contextual Code Analysis:**  \n",
      "   Beyond syntactic checks, the AI understands the project context (coding standards, framework versions, architecture patterns) to evaluate code quality, security vulnerabilities, and performance optimizations.\n",
      "\n",
      "3. **Autonomous Bug Detection and Triaging:**  \n",
      "   Using static analysis, historical bug patterns, test results, and code semantics, the AI flags potential bugs and classifies their severity and impacted modules.\n",
      "\n",
      "4. **Suggestive and Auto-corrective Actions:**  \n",
      "   For minor issues and style inconsistencies, the AI can either auto-correct or suggest fixes directly in pull requests, speeding up developer workflows.\n",
      "\n",
      "5. **Learning and Adaptation:**  \n",
      "   The AI learns from developer feedback on its suggestions and evolves to minimize false positives and tailor advice towards team preferences and coding practices.\n",
      "\n",
      "6. **Automated Testing & Validation:**  \n",
      "   The AI triggers and interprets relevant automated tests related to changed code areas and suggests additional test cases if gaps are detected.\n",
      "\n",
      "7. **Integration with CI/CD Pipelines:**  \n",
      "   Seamlessly integrates with existing tools (GitHub, GitLab, Jenkins, etc.) to enforce high-quality standards without disrupting developer productivity.\n",
      "\n",
      "---\n",
      "\n",
      "### Benefits:\n",
      "\n",
      "- **Improved Code Quality & Security:** Early bug detection and fix suggestions reduce technical debt.\n",
      "- **Faster Development Cycles:** Automated reviews free developers to focus on feature building and innovation.\n",
      "- **Reduced QA Burden:** Proactive issue identification lowers reliance on later-stage manual testing.\n",
      "- **Team Learning:** Feedback loops help teams continuously improve coding standards and practices.\n",
      "\n",
      "---\n",
      "\n",
      "Would you like me to elaborate on technical architecture, implementation steps, or expand to another development-related use case?\n"
     ]
    }
   ],
   "source": [
    "print(final_op)"
   ]
  },
  {
   "cell_type": "code",
   "execution_count": null,
   "metadata": {},
   "outputs": [],
   "source": [
    "ww"
   ]
  }
 ],
 "metadata": {
  "kernelspec": {
   "display_name": ".venv",
   "language": "python",
   "name": "python3"
  },
  "language_info": {
   "codemirror_mode": {
    "name": "ipython",
    "version": 3
   },
   "file_extension": ".py",
   "mimetype": "text/x-python",
   "name": "python",
   "nbconvert_exporter": "python",
   "pygments_lexer": "ipython3",
   "version": "3.12.11"
  }
 },
 "nbformat": 4,
 "nbformat_minor": 2
}
