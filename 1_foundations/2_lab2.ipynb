{
 "cells": [
  {
   "cell_type": "markdown",
   "metadata": {},
   "source": [
    "## Welcome to the Second Lab - Week 1, Day 3\n",
    "\n",
    "Today we will work with lots of models! This is a way to get comfortable with APIs."
   ]
  },
  {
   "cell_type": "markdown",
   "metadata": {},
   "source": [
    "<table style=\"margin: 0; text-align: left; width:100%\">\n",
    "    <tr>\n",
    "        <td style=\"width: 150px; height: 150px; vertical-align: middle;\">\n",
    "            <img src=\"../assets/stop.png\" width=\"150\" height=\"150\" style=\"display: block;\" />\n",
    "        </td>\n",
    "        <td>\n",
    "            <h2 style=\"color:#ff7800;\">Important point - please read</h2>\n",
    "            <span style=\"color:#ff7800;\">The way I collaborate with you may be different to other courses you've taken. I prefer not to type code while you watch. Rather, I execute Jupyter Labs, like this, and give you an intuition for what's going on. My suggestion is that you carefully execute this yourself, <b>after</b> watching the lecture. Add print statements to understand what's going on, and then come up with your own variations.<br/><br/>If you have time, I'd love it if you submit a PR for changes in the community_contributions folder - instructions in the resources. Also, if you have a Github account, use this to showcase your variations. Not only is this essential practice, but it demonstrates your skills to others, including perhaps future clients or employers...\n",
    "            </span>\n",
    "        </td>\n",
    "    </tr>\n",
    "</table>"
   ]
  },
  {
   "cell_type": "code",
   "execution_count": 1,
   "metadata": {},
   "outputs": [],
   "source": [
    "# Start with imports - ask ChatGPT to explain any package that you don't know\n",
    "\n",
    "import os\n",
    "import json\n",
    "from dotenv import load_dotenv\n",
    "from openai import OpenAI\n",
    "from anthropic import Anthropic\n",
    "from IPython.display import Markdown, display"
   ]
  },
  {
   "cell_type": "code",
   "execution_count": 2,
   "metadata": {},
   "outputs": [
    {
     "data": {
      "text/plain": [
       "True"
      ]
     },
     "execution_count": 2,
     "metadata": {},
     "output_type": "execute_result"
    }
   ],
   "source": [
    "# Always remember to do this!\n",
    "load_dotenv(override=True)"
   ]
  },
  {
   "cell_type": "code",
   "execution_count": 3,
   "metadata": {},
   "outputs": [
    {
     "name": "stdout",
     "output_type": "stream",
     "text": [
      "OpenAI API Key exists and begins sk-proj-\n",
      "Anthropic API Key not set (and this is optional)\n",
      "Google API Key not set (and this is optional)\n",
      "DeepSeek API Key not set (and this is optional)\n",
      "Groq API Key not set (and this is optional)\n"
     ]
    }
   ],
   "source": [
    "# Print the key prefixes to help with any debugging\n",
    "\n",
    "openai_api_key = os.getenv('OPENAI_API_KEY')\n",
    "anthropic_api_key = os.getenv('ANTHROPIC_API_KEY')\n",
    "google_api_key = os.getenv('GOOGLE_API_KEY')\n",
    "deepseek_api_key = os.getenv('DEEPSEEK_API_KEY')\n",
    "groq_api_key = os.getenv('GROQ_API_KEY')\n",
    "\n",
    "if openai_api_key:\n",
    "    print(f\"OpenAI API Key exists and begins {openai_api_key[:8]}\")\n",
    "else:\n",
    "    print(\"OpenAI API Key not set\")\n",
    "    \n",
    "if anthropic_api_key:\n",
    "    print(f\"Anthropic API Key exists and begins {anthropic_api_key[:7]}\")\n",
    "else:\n",
    "    print(\"Anthropic API Key not set (and this is optional)\")\n",
    "\n",
    "if google_api_key:\n",
    "    print(f\"Google API Key exists and begins {google_api_key[:2]}\")\n",
    "else:\n",
    "    print(\"Google API Key not set (and this is optional)\")\n",
    "\n",
    "if deepseek_api_key:\n",
    "    print(f\"DeepSeek API Key exists and begins {deepseek_api_key[:3]}\")\n",
    "else:\n",
    "    print(\"DeepSeek API Key not set (and this is optional)\")\n",
    "\n",
    "if groq_api_key:\n",
    "    print(f\"Groq API Key exists and begins {groq_api_key[:4]}\")\n",
    "else:\n",
    "    print(\"Groq API Key not set (and this is optional)\")"
   ]
  },
  {
   "cell_type": "code",
   "execution_count": 4,
   "metadata": {},
   "outputs": [],
   "source": [
    "request = \"Please come up with a challenging, nuanced question that I can ask a number of LLMs to evaluate their intelligence. \"\n",
    "request += \"Answer only with the question, no explanation.\"\n",
    "messages = [{\"role\": \"user\", \"content\": request}]"
   ]
  },
  {
   "cell_type": "code",
   "execution_count": 5,
   "metadata": {},
   "outputs": [
    {
     "data": {
      "text/plain": [
       "[{'role': 'user',\n",
       "  'content': 'Please come up with a challenging, nuanced question that I can ask a number of LLMs to evaluate their intelligence. Answer only with the question, no explanation.'}]"
      ]
     },
     "execution_count": 5,
     "metadata": {},
     "output_type": "execute_result"
    }
   ],
   "source": [
    "messages"
   ]
  },
  {
   "cell_type": "code",
   "execution_count": null,
   "metadata": {},
   "outputs": [
    {
     "name": "stdout",
     "output_type": "stream",
     "text": [
      "If you were given the power to redesign one fundamental aspect of human society—such as governance, education, or healthcare—with the goal of maximizing well-being for everyone while minimizing inequality, what would you choose to redesign, why, and how would you implement your changes?\n"
     ]
    }
   ],
   "source": [
    "openai = OpenAI()\n",
    "response = openai.chat.completions.create(\n",
    "    model=\"gpt-4o-mini\",\n",
    "    messages=messages,\n",
    ")\n",
    "question = response.choices[0].message.content\n",
    "print(question)\n",
    " "
   ]
  },
  {
   "cell_type": "code",
   "execution_count": 7,
   "metadata": {},
   "outputs": [],
   "source": [
    "competitors = []\n",
    "answers = []\n",
    "messages = [{\"role\": \"user\", \"content\": question}]"
   ]
  },
  {
   "cell_type": "code",
   "execution_count": 8,
   "metadata": {},
   "outputs": [
    {
     "data": {
      "text/markdown": [
       "If I were given the power to redesign one fundamental aspect of human society, I would choose education. The rationale behind this choice is that education is foundational to personal development and has the power to break the cycle of poverty, promote equality, and foster informed and engaged citizens. By redesigning education, we can address many systemic issues in governance, healthcare, and socioeconomic disparities.\n",
       "\n",
       "### Proposed Redesign: A Holistic Education System\n",
       "\n",
       "**1. Core Principles:**\n",
       "   - **Accessibility:** Ensure that quality education is universally accessible regardless of geographical location, socioeconomic status, or personal circumstances.\n",
       "   - **Inclusivity:** Curriculum and teaching methods should cater to diverse learning styles and needs, promoting equity among all students.\n",
       "   - **Lifelong Learning:** Foster a culture where education is seen as a continuous journey, not limited to early life but adaptable to all stages of life.\n",
       "   - **Skill Integration:** Emphasize a curriculum that integrates cognitive skills, emotional intelligence, critical thinking, and practical life skills.\n",
       "\n",
       "### Implementation Steps:\n",
       "\n",
       "**1. Universal Access:**\n",
       "   - **Digital Infrastructure:** Invest in infrastructure to ensure high-speed internet access for all, particularly in underserved areas, along with devices for students.\n",
       "   - **Free Education:** Provide free tuition for all levels from early childhood through higher education, funded through progressive taxation and public-private partnerships.\n",
       "\n",
       "**2. Curriculum Overhaul:**\n",
       "   - **Multidisciplinary Approach:** Redesign curriculum to include not just traditional subjects (math, science, literature) but also mental health education, financial literacy, environmental studies, and technology skills.\n",
       "   - **Project-Based Learning:** Implement hands-on, project-based learning that emphasizes collaboration, creativity, and problem-solving over rote memorization.\n",
       "\n",
       "**3. Training Educators:**\n",
       "   - **Continuous Professional Development:** Establish ongoing professional development programs for teachers that emphasize not only subject knowledge but also pedagogy, inclusivity, and mental health support.\n",
       "   - **Diverse Hiring Practices:** Actively recruit a diverse teaching workforce that reflects the communities they serve to foster relatability and understanding.\n",
       "\n",
       "**4. Community Involvement:**\n",
       "   - **Local Partnerships:** Partner with local businesses, nonprofits, and community organizations to provide mentorship, apprenticeships, and practical learning opportunities.\n",
       "   - **Family Engagement:** Design programs that involve families in the educational process, fostering stronger support systems for students.\n",
       "\n",
       "**5. Assessment and Feedback:**\n",
       "   - **Holistic Assessment Models:** Move away from standardized testing as the primary mode of assessment. Instead, incorporate portfolio assessments, peer evaluations, and self-reflective practices.\n",
       "   - **Iterative Feedback Loop:** Create a feedback system that continuously gathers input from students, parents, and teachers to adapt and improve educational practices and policies.\n",
       "\n",
       "**6. Focus on Mental and Emotional Health:**\n",
       "   - **Wellness Programs:** Integrate mental health resources within schools, including counselors and wellness programs, to ensure students’ emotional and psychological needs are met.\n",
       "   - **Mindfulness and Resilience Training:** Introduce curricula that teach resilience, empathy, and mindfulness as tools for personal and social development.\n",
       "\n",
       "### Expected Outcomes:\n",
       "\n",
       "By redesigning the education system with these principles and actionable steps, we can achieve a more equitable society where everyone has the opportunity to succeed. A well-educated population is better equipped to engage in civic life, pursue innovations in healthcare and governance, and contribute positively to the economy. Over time, this holistic approach to education has the potential to significantly reduce inequality, promote social mobility, and enhance overall well-being for individuals and communities alike."
      ],
      "text/plain": [
       "<IPython.core.display.Markdown object>"
      ]
     },
     "metadata": {},
     "output_type": "display_data"
    }
   ],
   "source": [
    "# The API we know well\n",
    "\n",
    "model_name = \"gpt-4o-mini\"\n",
    "\n",
    "response = openai.chat.completions.create(model=model_name, messages=messages)\n",
    "answer = response.choices[0].message.content\n",
    "\n",
    "display(Markdown(answer))\n",
    "competitors.append(model_name)\n",
    "answers.append(answer)"
   ]
  },
  {
   "cell_type": "code",
   "execution_count": 9,
   "metadata": {},
   "outputs": [
    {
     "ename": "TypeError",
     "evalue": "\"Could not resolve authentication method. Expected either api_key or auth_token to be set. Or for one of the `X-Api-Key` or `Authorization` headers to be explicitly omitted\"",
     "output_type": "error",
     "traceback": [
      "\u001b[31m---------------------------------------------------------------------------\u001b[39m",
      "\u001b[31mTypeError\u001b[39m                                 Traceback (most recent call last)",
      "\u001b[36mCell\u001b[39m\u001b[36m \u001b[39m\u001b[32mIn[9]\u001b[39m\u001b[32m, line 6\u001b[39m\n\u001b[32m      3\u001b[39m model_name = \u001b[33m\"\u001b[39m\u001b[33mclaude-3-7-sonnet-latest\u001b[39m\u001b[33m\"\u001b[39m\n\u001b[32m      5\u001b[39m claude = Anthropic()\n\u001b[32m----> \u001b[39m\u001b[32m6\u001b[39m response = \u001b[43mclaude\u001b[49m\u001b[43m.\u001b[49m\u001b[43mmessages\u001b[49m\u001b[43m.\u001b[49m\u001b[43mcreate\u001b[49m\u001b[43m(\u001b[49m\u001b[43mmodel\u001b[49m\u001b[43m=\u001b[49m\u001b[43mmodel_name\u001b[49m\u001b[43m,\u001b[49m\u001b[43m \u001b[49m\u001b[43mmessages\u001b[49m\u001b[43m=\u001b[49m\u001b[43mmessages\u001b[49m\u001b[43m,\u001b[49m\u001b[43m \u001b[49m\u001b[43mmax_tokens\u001b[49m\u001b[43m=\u001b[49m\u001b[32;43m1000\u001b[39;49m\u001b[43m)\u001b[49m\n\u001b[32m      7\u001b[39m answer = response.content[\u001b[32m0\u001b[39m].text\n\u001b[32m      9\u001b[39m display(Markdown(answer))\n",
      "\u001b[36mFile \u001b[39m\u001b[32md:\\gen_ai\\.venv\\Lib\\site-packages\\anthropic\\_utils\\_utils.py:283\u001b[39m, in \u001b[36mrequired_args.<locals>.inner.<locals>.wrapper\u001b[39m\u001b[34m(*args, **kwargs)\u001b[39m\n\u001b[32m    281\u001b[39m             msg = \u001b[33mf\u001b[39m\u001b[33m\"\u001b[39m\u001b[33mMissing required argument: \u001b[39m\u001b[38;5;132;01m{\u001b[39;00mquote(missing[\u001b[32m0\u001b[39m])\u001b[38;5;132;01m}\u001b[39;00m\u001b[33m\"\u001b[39m\n\u001b[32m    282\u001b[39m     \u001b[38;5;28;01mraise\u001b[39;00m \u001b[38;5;167;01mTypeError\u001b[39;00m(msg)\n\u001b[32m--> \u001b[39m\u001b[32m283\u001b[39m \u001b[38;5;28;01mreturn\u001b[39;00m \u001b[43mfunc\u001b[49m\u001b[43m(\u001b[49m\u001b[43m*\u001b[49m\u001b[43margs\u001b[49m\u001b[43m,\u001b[49m\u001b[43m \u001b[49m\u001b[43m*\u001b[49m\u001b[43m*\u001b[49m\u001b[43mkwargs\u001b[49m\u001b[43m)\u001b[49m\n",
      "\u001b[36mFile \u001b[39m\u001b[32md:\\gen_ai\\.venv\\Lib\\site-packages\\anthropic\\resources\\messages\\messages.py:978\u001b[39m, in \u001b[36mMessages.create\u001b[39m\u001b[34m(self, max_tokens, messages, model, metadata, service_tier, stop_sequences, stream, system, temperature, thinking, tool_choice, tools, top_k, top_p, extra_headers, extra_query, extra_body, timeout)\u001b[39m\n\u001b[32m    971\u001b[39m \u001b[38;5;28;01mif\u001b[39;00m model \u001b[38;5;129;01min\u001b[39;00m DEPRECATED_MODELS:\n\u001b[32m    972\u001b[39m     warnings.warn(\n\u001b[32m    973\u001b[39m         \u001b[33mf\u001b[39m\u001b[33m\"\u001b[39m\u001b[33mThe model \u001b[39m\u001b[33m'\u001b[39m\u001b[38;5;132;01m{\u001b[39;00mmodel\u001b[38;5;132;01m}\u001b[39;00m\u001b[33m'\u001b[39m\u001b[33m is deprecated and will reach end-of-life on \u001b[39m\u001b[38;5;132;01m{\u001b[39;00mDEPRECATED_MODELS[model]\u001b[38;5;132;01m}\u001b[39;00m\u001b[33m.\u001b[39m\u001b[38;5;130;01m\\n\u001b[39;00m\u001b[33mPlease migrate to a newer model. Visit https://docs.anthropic.com/en/docs/resources/model-deprecations for more information.\u001b[39m\u001b[33m\"\u001b[39m,\n\u001b[32m    974\u001b[39m         \u001b[38;5;167;01mDeprecationWarning\u001b[39;00m,\n\u001b[32m    975\u001b[39m         stacklevel=\u001b[32m3\u001b[39m,\n\u001b[32m    976\u001b[39m     )\n\u001b[32m--> \u001b[39m\u001b[32m978\u001b[39m \u001b[38;5;28;01mreturn\u001b[39;00m \u001b[38;5;28;43mself\u001b[39;49m\u001b[43m.\u001b[49m\u001b[43m_post\u001b[49m\u001b[43m(\u001b[49m\n\u001b[32m    979\u001b[39m \u001b[43m    \u001b[49m\u001b[33;43m\"\u001b[39;49m\u001b[33;43m/v1/messages\u001b[39;49m\u001b[33;43m\"\u001b[39;49m\u001b[43m,\u001b[49m\n\u001b[32m    980\u001b[39m \u001b[43m    \u001b[49m\u001b[43mbody\u001b[49m\u001b[43m=\u001b[49m\u001b[43mmaybe_transform\u001b[49m\u001b[43m(\u001b[49m\n\u001b[32m    981\u001b[39m \u001b[43m        \u001b[49m\u001b[43m{\u001b[49m\n\u001b[32m    982\u001b[39m \u001b[43m            \u001b[49m\u001b[33;43m\"\u001b[39;49m\u001b[33;43mmax_tokens\u001b[39;49m\u001b[33;43m\"\u001b[39;49m\u001b[43m:\u001b[49m\u001b[43m \u001b[49m\u001b[43mmax_tokens\u001b[49m\u001b[43m,\u001b[49m\n\u001b[32m    983\u001b[39m \u001b[43m            \u001b[49m\u001b[33;43m\"\u001b[39;49m\u001b[33;43mmessages\u001b[39;49m\u001b[33;43m\"\u001b[39;49m\u001b[43m:\u001b[49m\u001b[43m \u001b[49m\u001b[43mmessages\u001b[49m\u001b[43m,\u001b[49m\n\u001b[32m    984\u001b[39m \u001b[43m            \u001b[49m\u001b[33;43m\"\u001b[39;49m\u001b[33;43mmodel\u001b[39;49m\u001b[33;43m\"\u001b[39;49m\u001b[43m:\u001b[49m\u001b[43m \u001b[49m\u001b[43mmodel\u001b[49m\u001b[43m,\u001b[49m\n\u001b[32m    985\u001b[39m \u001b[43m            \u001b[49m\u001b[33;43m\"\u001b[39;49m\u001b[33;43mmetadata\u001b[39;49m\u001b[33;43m\"\u001b[39;49m\u001b[43m:\u001b[49m\u001b[43m \u001b[49m\u001b[43mmetadata\u001b[49m\u001b[43m,\u001b[49m\n\u001b[32m    986\u001b[39m \u001b[43m            \u001b[49m\u001b[33;43m\"\u001b[39;49m\u001b[33;43mservice_tier\u001b[39;49m\u001b[33;43m\"\u001b[39;49m\u001b[43m:\u001b[49m\u001b[43m \u001b[49m\u001b[43mservice_tier\u001b[49m\u001b[43m,\u001b[49m\n\u001b[32m    987\u001b[39m \u001b[43m            \u001b[49m\u001b[33;43m\"\u001b[39;49m\u001b[33;43mstop_sequences\u001b[39;49m\u001b[33;43m\"\u001b[39;49m\u001b[43m:\u001b[49m\u001b[43m \u001b[49m\u001b[43mstop_sequences\u001b[49m\u001b[43m,\u001b[49m\n\u001b[32m    988\u001b[39m \u001b[43m            \u001b[49m\u001b[33;43m\"\u001b[39;49m\u001b[33;43mstream\u001b[39;49m\u001b[33;43m\"\u001b[39;49m\u001b[43m:\u001b[49m\u001b[43m \u001b[49m\u001b[43mstream\u001b[49m\u001b[43m,\u001b[49m\n\u001b[32m    989\u001b[39m \u001b[43m            \u001b[49m\u001b[33;43m\"\u001b[39;49m\u001b[33;43msystem\u001b[39;49m\u001b[33;43m\"\u001b[39;49m\u001b[43m:\u001b[49m\u001b[43m \u001b[49m\u001b[43msystem\u001b[49m\u001b[43m,\u001b[49m\n\u001b[32m    990\u001b[39m \u001b[43m            \u001b[49m\u001b[33;43m\"\u001b[39;49m\u001b[33;43mtemperature\u001b[39;49m\u001b[33;43m\"\u001b[39;49m\u001b[43m:\u001b[49m\u001b[43m \u001b[49m\u001b[43mtemperature\u001b[49m\u001b[43m,\u001b[49m\n\u001b[32m    991\u001b[39m \u001b[43m            \u001b[49m\u001b[33;43m\"\u001b[39;49m\u001b[33;43mthinking\u001b[39;49m\u001b[33;43m\"\u001b[39;49m\u001b[43m:\u001b[49m\u001b[43m \u001b[49m\u001b[43mthinking\u001b[49m\u001b[43m,\u001b[49m\n\u001b[32m    992\u001b[39m \u001b[43m            \u001b[49m\u001b[33;43m\"\u001b[39;49m\u001b[33;43mtool_choice\u001b[39;49m\u001b[33;43m\"\u001b[39;49m\u001b[43m:\u001b[49m\u001b[43m \u001b[49m\u001b[43mtool_choice\u001b[49m\u001b[43m,\u001b[49m\n\u001b[32m    993\u001b[39m \u001b[43m            \u001b[49m\u001b[33;43m\"\u001b[39;49m\u001b[33;43mtools\u001b[39;49m\u001b[33;43m\"\u001b[39;49m\u001b[43m:\u001b[49m\u001b[43m \u001b[49m\u001b[43mtools\u001b[49m\u001b[43m,\u001b[49m\n\u001b[32m    994\u001b[39m \u001b[43m            \u001b[49m\u001b[33;43m\"\u001b[39;49m\u001b[33;43mtop_k\u001b[39;49m\u001b[33;43m\"\u001b[39;49m\u001b[43m:\u001b[49m\u001b[43m \u001b[49m\u001b[43mtop_k\u001b[49m\u001b[43m,\u001b[49m\n\u001b[32m    995\u001b[39m \u001b[43m            \u001b[49m\u001b[33;43m\"\u001b[39;49m\u001b[33;43mtop_p\u001b[39;49m\u001b[33;43m\"\u001b[39;49m\u001b[43m:\u001b[49m\u001b[43m \u001b[49m\u001b[43mtop_p\u001b[49m\u001b[43m,\u001b[49m\n\u001b[32m    996\u001b[39m \u001b[43m        \u001b[49m\u001b[43m}\u001b[49m\u001b[43m,\u001b[49m\n\u001b[32m    997\u001b[39m \u001b[43m        \u001b[49m\u001b[43mmessage_create_params\u001b[49m\u001b[43m.\u001b[49m\u001b[43mMessageCreateParamsStreaming\u001b[49m\n\u001b[32m    998\u001b[39m \u001b[43m        \u001b[49m\u001b[38;5;28;43;01mif\u001b[39;49;00m\u001b[43m \u001b[49m\u001b[43mstream\u001b[49m\n\u001b[32m    999\u001b[39m \u001b[43m        \u001b[49m\u001b[38;5;28;43;01melse\u001b[39;49;00m\u001b[43m \u001b[49m\u001b[43mmessage_create_params\u001b[49m\u001b[43m.\u001b[49m\u001b[43mMessageCreateParamsNonStreaming\u001b[49m\u001b[43m,\u001b[49m\n\u001b[32m   1000\u001b[39m \u001b[43m    \u001b[49m\u001b[43m)\u001b[49m\u001b[43m,\u001b[49m\n\u001b[32m   1001\u001b[39m \u001b[43m    \u001b[49m\u001b[43moptions\u001b[49m\u001b[43m=\u001b[49m\u001b[43mmake_request_options\u001b[49m\u001b[43m(\u001b[49m\n\u001b[32m   1002\u001b[39m \u001b[43m        \u001b[49m\u001b[43mextra_headers\u001b[49m\u001b[43m=\u001b[49m\u001b[43mextra_headers\u001b[49m\u001b[43m,\u001b[49m\u001b[43m \u001b[49m\u001b[43mextra_query\u001b[49m\u001b[43m=\u001b[49m\u001b[43mextra_query\u001b[49m\u001b[43m,\u001b[49m\u001b[43m \u001b[49m\u001b[43mextra_body\u001b[49m\u001b[43m=\u001b[49m\u001b[43mextra_body\u001b[49m\u001b[43m,\u001b[49m\u001b[43m \u001b[49m\u001b[43mtimeout\u001b[49m\u001b[43m=\u001b[49m\u001b[43mtimeout\u001b[49m\n\u001b[32m   1003\u001b[39m \u001b[43m    \u001b[49m\u001b[43m)\u001b[49m\u001b[43m,\u001b[49m\n\u001b[32m   1004\u001b[39m \u001b[43m    \u001b[49m\u001b[43mcast_to\u001b[49m\u001b[43m=\u001b[49m\u001b[43mMessage\u001b[49m\u001b[43m,\u001b[49m\n\u001b[32m   1005\u001b[39m \u001b[43m    \u001b[49m\u001b[43mstream\u001b[49m\u001b[43m=\u001b[49m\u001b[43mstream\u001b[49m\u001b[43m \u001b[49m\u001b[38;5;129;43;01mor\u001b[39;49;00m\u001b[43m \u001b[49m\u001b[38;5;28;43;01mFalse\u001b[39;49;00m\u001b[43m,\u001b[49m\n\u001b[32m   1006\u001b[39m \u001b[43m    \u001b[49m\u001b[43mstream_cls\u001b[49m\u001b[43m=\u001b[49m\u001b[43mStream\u001b[49m\u001b[43m[\u001b[49m\u001b[43mRawMessageStreamEvent\u001b[49m\u001b[43m]\u001b[49m\u001b[43m,\u001b[49m\n\u001b[32m   1007\u001b[39m \u001b[43m\u001b[49m\u001b[43m)\u001b[49m\n",
      "\u001b[36mFile \u001b[39m\u001b[32md:\\gen_ai\\.venv\\Lib\\site-packages\\anthropic\\_base_client.py:1293\u001b[39m, in \u001b[36mSyncAPIClient.post\u001b[39m\u001b[34m(self, path, cast_to, body, options, files, stream, stream_cls)\u001b[39m\n\u001b[32m   1279\u001b[39m \u001b[38;5;28;01mdef\u001b[39;00m\u001b[38;5;250m \u001b[39m\u001b[34mpost\u001b[39m(\n\u001b[32m   1280\u001b[39m     \u001b[38;5;28mself\u001b[39m,\n\u001b[32m   1281\u001b[39m     path: \u001b[38;5;28mstr\u001b[39m,\n\u001b[32m   (...)\u001b[39m\u001b[32m   1288\u001b[39m     stream_cls: \u001b[38;5;28mtype\u001b[39m[_StreamT] | \u001b[38;5;28;01mNone\u001b[39;00m = \u001b[38;5;28;01mNone\u001b[39;00m,\n\u001b[32m   1289\u001b[39m ) -> ResponseT | _StreamT:\n\u001b[32m   1290\u001b[39m     opts = FinalRequestOptions.construct(\n\u001b[32m   1291\u001b[39m         method=\u001b[33m\"\u001b[39m\u001b[33mpost\u001b[39m\u001b[33m\"\u001b[39m, url=path, json_data=body, files=to_httpx_files(files), **options\n\u001b[32m   1292\u001b[39m     )\n\u001b[32m-> \u001b[39m\u001b[32m1293\u001b[39m     \u001b[38;5;28;01mreturn\u001b[39;00m cast(ResponseT, \u001b[38;5;28;43mself\u001b[39;49m\u001b[43m.\u001b[49m\u001b[43mrequest\u001b[49m\u001b[43m(\u001b[49m\u001b[43mcast_to\u001b[49m\u001b[43m,\u001b[49m\u001b[43m \u001b[49m\u001b[43mopts\u001b[49m\u001b[43m,\u001b[49m\u001b[43m \u001b[49m\u001b[43mstream\u001b[49m\u001b[43m=\u001b[49m\u001b[43mstream\u001b[49m\u001b[43m,\u001b[49m\u001b[43m \u001b[49m\u001b[43mstream_cls\u001b[49m\u001b[43m=\u001b[49m\u001b[43mstream_cls\u001b[49m\u001b[43m)\u001b[49m)\n",
      "\u001b[36mFile \u001b[39m\u001b[32md:\\gen_ai\\.venv\\Lib\\site-packages\\anthropic\\_base_client.py:1009\u001b[39m, in \u001b[36mSyncAPIClient.request\u001b[39m\u001b[34m(self, cast_to, options, stream, stream_cls)\u001b[39m\n\u001b[32m   1006\u001b[39m options = \u001b[38;5;28mself\u001b[39m._prepare_options(options)\n\u001b[32m   1008\u001b[39m remaining_retries = max_retries - retries_taken\n\u001b[32m-> \u001b[39m\u001b[32m1009\u001b[39m request = \u001b[38;5;28;43mself\u001b[39;49m\u001b[43m.\u001b[49m\u001b[43m_build_request\u001b[49m\u001b[43m(\u001b[49m\u001b[43moptions\u001b[49m\u001b[43m,\u001b[49m\u001b[43m \u001b[49m\u001b[43mretries_taken\u001b[49m\u001b[43m=\u001b[49m\u001b[43mretries_taken\u001b[49m\u001b[43m)\u001b[49m\n\u001b[32m   1010\u001b[39m \u001b[38;5;28mself\u001b[39m._prepare_request(request)\n\u001b[32m   1012\u001b[39m kwargs: HttpxSendArgs = {}\n",
      "\u001b[36mFile \u001b[39m\u001b[32md:\\gen_ai\\.venv\\Lib\\site-packages\\anthropic\\_base_client.py:505\u001b[39m, in \u001b[36mBaseClient._build_request\u001b[39m\u001b[34m(self, options, retries_taken)\u001b[39m\n\u001b[32m    502\u001b[39m     \u001b[38;5;28;01melse\u001b[39;00m:\n\u001b[32m    503\u001b[39m         \u001b[38;5;28;01mraise\u001b[39;00m \u001b[38;5;167;01mRuntimeError\u001b[39;00m(\u001b[33mf\u001b[39m\u001b[33m\"\u001b[39m\u001b[33mUnexpected JSON data type, \u001b[39m\u001b[38;5;132;01m{\u001b[39;00m\u001b[38;5;28mtype\u001b[39m(json_data)\u001b[38;5;132;01m}\u001b[39;00m\u001b[33m, cannot merge with `extra_body`\u001b[39m\u001b[33m\"\u001b[39m)\n\u001b[32m--> \u001b[39m\u001b[32m505\u001b[39m headers = \u001b[38;5;28;43mself\u001b[39;49m\u001b[43m.\u001b[49m\u001b[43m_build_headers\u001b[49m\u001b[43m(\u001b[49m\u001b[43moptions\u001b[49m\u001b[43m,\u001b[49m\u001b[43m \u001b[49m\u001b[43mretries_taken\u001b[49m\u001b[43m=\u001b[49m\u001b[43mretries_taken\u001b[49m\u001b[43m)\u001b[49m\n\u001b[32m    506\u001b[39m params = _merge_mappings(\u001b[38;5;28mself\u001b[39m.default_query, options.params)\n\u001b[32m    507\u001b[39m content_type = headers.get(\u001b[33m\"\u001b[39m\u001b[33mContent-Type\u001b[39m\u001b[33m\"\u001b[39m)\n",
      "\u001b[36mFile \u001b[39m\u001b[32md:\\gen_ai\\.venv\\Lib\\site-packages\\anthropic\\_base_client.py:446\u001b[39m, in \u001b[36mBaseClient._build_headers\u001b[39m\u001b[34m(self, options, retries_taken)\u001b[39m\n\u001b[32m    436\u001b[39m custom_headers = options.headers \u001b[38;5;129;01mor\u001b[39;00m {}\n\u001b[32m    437\u001b[39m headers_dict = _merge_mappings(\n\u001b[32m    438\u001b[39m     {\n\u001b[32m    439\u001b[39m         \u001b[33m\"\u001b[39m\u001b[33mx-stainless-timeout\u001b[39m\u001b[33m\"\u001b[39m: \u001b[38;5;28mstr\u001b[39m(options.timeout.read)\n\u001b[32m   (...)\u001b[39m\u001b[32m    444\u001b[39m     custom_headers,\n\u001b[32m    445\u001b[39m )\n\u001b[32m--> \u001b[39m\u001b[32m446\u001b[39m \u001b[38;5;28;43mself\u001b[39;49m\u001b[43m.\u001b[49m\u001b[43m_validate_headers\u001b[49m\u001b[43m(\u001b[49m\u001b[43mheaders_dict\u001b[49m\u001b[43m,\u001b[49m\u001b[43m \u001b[49m\u001b[43mcustom_headers\u001b[49m\u001b[43m)\u001b[49m\n\u001b[32m    448\u001b[39m \u001b[38;5;66;03m# headers are case-insensitive while dictionaries are not.\u001b[39;00m\n\u001b[32m    449\u001b[39m headers = httpx.Headers(headers_dict)\n",
      "\u001b[36mFile \u001b[39m\u001b[32md:\\gen_ai\\.venv\\Lib\\site-packages\\anthropic\\_client.py:196\u001b[39m, in \u001b[36mAnthropic._validate_headers\u001b[39m\u001b[34m(self, headers, custom_headers)\u001b[39m\n\u001b[32m    193\u001b[39m \u001b[38;5;28;01mif\u001b[39;00m \u001b[38;5;28misinstance\u001b[39m(custom_headers.get(\u001b[33m\"\u001b[39m\u001b[33mAuthorization\u001b[39m\u001b[33m\"\u001b[39m), Omit):\n\u001b[32m    194\u001b[39m     \u001b[38;5;28;01mreturn\u001b[39;00m\n\u001b[32m--> \u001b[39m\u001b[32m196\u001b[39m \u001b[38;5;28;01mraise\u001b[39;00m \u001b[38;5;167;01mTypeError\u001b[39;00m(\n\u001b[32m    197\u001b[39m     \u001b[33m'\u001b[39m\u001b[33m\"\u001b[39m\u001b[33mCould not resolve authentication method. Expected either api_key or auth_token to be set. Or for one of the `X-Api-Key` or `Authorization` headers to be explicitly omitted\u001b[39m\u001b[33m\"\u001b[39m\u001b[33m'\u001b[39m\n\u001b[32m    198\u001b[39m )\n",
      "\u001b[31mTypeError\u001b[39m: \"Could not resolve authentication method. Expected either api_key or auth_token to be set. Or for one of the `X-Api-Key` or `Authorization` headers to be explicitly omitted\""
     ]
    }
   ],
   "source": [
    "# Anthropic has a slightly different API, and Max Tokens is required\n",
    "\n",
    "model_name = \"claude-3-7-sonnet-latest\"\n",
    "\n",
    "claude = Anthropic()\n",
    "response = claude.messages.create(model=model_name, messages=messages, max_tokens=1000)\n",
    "answer = response.content[0].text\n",
    "\n",
    "display(Markdown(answer))\n",
    "competitors.append(model_name)\n",
    "answers.append(answer)"
   ]
  },
  {
   "cell_type": "code",
   "execution_count": 10,
   "metadata": {},
   "outputs": [
    {
     "ename": "BadRequestError",
     "evalue": "Error code: 400 - [{'error': {'code': 400, 'message': 'API key not valid. Please pass a valid API key.', 'status': 'INVALID_ARGUMENT', 'details': [{'@type': 'type.googleapis.com/google.rpc.ErrorInfo', 'reason': 'API_KEY_INVALID', 'domain': 'googleapis.com', 'metadata': {'service': 'generativelanguage.googleapis.com'}}, {'@type': 'type.googleapis.com/google.rpc.LocalizedMessage', 'locale': 'en-US', 'message': 'API key not valid. Please pass a valid API key.'}]}}]",
     "output_type": "error",
     "traceback": [
      "\u001b[31m---------------------------------------------------------------------------\u001b[39m",
      "\u001b[31mBadRequestError\u001b[39m                           Traceback (most recent call last)",
      "\u001b[36mCell\u001b[39m\u001b[36m \u001b[39m\u001b[32mIn[10]\u001b[39m\u001b[32m, line 4\u001b[39m\n\u001b[32m      1\u001b[39m gemini = OpenAI(api_key=google_api_key, base_url=\u001b[33m\"\u001b[39m\u001b[33mhttps://generativelanguage.googleapis.com/v1beta/openai/\u001b[39m\u001b[33m\"\u001b[39m)\n\u001b[32m      2\u001b[39m model_name = \u001b[33m\"\u001b[39m\u001b[33mgemini-2.0-flash\u001b[39m\u001b[33m\"\u001b[39m\n\u001b[32m----> \u001b[39m\u001b[32m4\u001b[39m response = \u001b[43mgemini\u001b[49m\u001b[43m.\u001b[49m\u001b[43mchat\u001b[49m\u001b[43m.\u001b[49m\u001b[43mcompletions\u001b[49m\u001b[43m.\u001b[49m\u001b[43mcreate\u001b[49m\u001b[43m(\u001b[49m\u001b[43mmodel\u001b[49m\u001b[43m=\u001b[49m\u001b[43mmodel_name\u001b[49m\u001b[43m,\u001b[49m\u001b[43m \u001b[49m\u001b[43mmessages\u001b[49m\u001b[43m=\u001b[49m\u001b[43mmessages\u001b[49m\u001b[43m)\u001b[49m\n\u001b[32m      5\u001b[39m answer = response.choices[\u001b[32m0\u001b[39m].message.content\n\u001b[32m      7\u001b[39m display(Markdown(answer))\n",
      "\u001b[36mFile \u001b[39m\u001b[32md:\\gen_ai\\.venv\\Lib\\site-packages\\openai\\_utils\\_utils.py:287\u001b[39m, in \u001b[36mrequired_args.<locals>.inner.<locals>.wrapper\u001b[39m\u001b[34m(*args, **kwargs)\u001b[39m\n\u001b[32m    285\u001b[39m             msg = \u001b[33mf\u001b[39m\u001b[33m\"\u001b[39m\u001b[33mMissing required argument: \u001b[39m\u001b[38;5;132;01m{\u001b[39;00mquote(missing[\u001b[32m0\u001b[39m])\u001b[38;5;132;01m}\u001b[39;00m\u001b[33m\"\u001b[39m\n\u001b[32m    286\u001b[39m     \u001b[38;5;28;01mraise\u001b[39;00m \u001b[38;5;167;01mTypeError\u001b[39;00m(msg)\n\u001b[32m--> \u001b[39m\u001b[32m287\u001b[39m \u001b[38;5;28;01mreturn\u001b[39;00m \u001b[43mfunc\u001b[49m\u001b[43m(\u001b[49m\u001b[43m*\u001b[49m\u001b[43margs\u001b[49m\u001b[43m,\u001b[49m\u001b[43m \u001b[49m\u001b[43m*\u001b[49m\u001b[43m*\u001b[49m\u001b[43mkwargs\u001b[49m\u001b[43m)\u001b[49m\n",
      "\u001b[36mFile \u001b[39m\u001b[32md:\\gen_ai\\.venv\\Lib\\site-packages\\openai\\resources\\chat\\completions\\completions.py:925\u001b[39m, in \u001b[36mCompletions.create\u001b[39m\u001b[34m(self, messages, model, audio, frequency_penalty, function_call, functions, logit_bias, logprobs, max_completion_tokens, max_tokens, metadata, modalities, n, parallel_tool_calls, prediction, presence_penalty, reasoning_effort, response_format, seed, service_tier, stop, store, stream, stream_options, temperature, tool_choice, tools, top_logprobs, top_p, user, web_search_options, extra_headers, extra_query, extra_body, timeout)\u001b[39m\n\u001b[32m    882\u001b[39m \u001b[38;5;129m@required_args\u001b[39m([\u001b[33m\"\u001b[39m\u001b[33mmessages\u001b[39m\u001b[33m\"\u001b[39m, \u001b[33m\"\u001b[39m\u001b[33mmodel\u001b[39m\u001b[33m\"\u001b[39m], [\u001b[33m\"\u001b[39m\u001b[33mmessages\u001b[39m\u001b[33m\"\u001b[39m, \u001b[33m\"\u001b[39m\u001b[33mmodel\u001b[39m\u001b[33m\"\u001b[39m, \u001b[33m\"\u001b[39m\u001b[33mstream\u001b[39m\u001b[33m\"\u001b[39m])\n\u001b[32m    883\u001b[39m \u001b[38;5;28;01mdef\u001b[39;00m\u001b[38;5;250m \u001b[39m\u001b[34mcreate\u001b[39m(\n\u001b[32m    884\u001b[39m     \u001b[38;5;28mself\u001b[39m,\n\u001b[32m   (...)\u001b[39m\u001b[32m    922\u001b[39m     timeout: \u001b[38;5;28mfloat\u001b[39m | httpx.Timeout | \u001b[38;5;28;01mNone\u001b[39;00m | NotGiven = NOT_GIVEN,\n\u001b[32m    923\u001b[39m ) -> ChatCompletion | Stream[ChatCompletionChunk]:\n\u001b[32m    924\u001b[39m     validate_response_format(response_format)\n\u001b[32m--> \u001b[39m\u001b[32m925\u001b[39m     \u001b[38;5;28;01mreturn\u001b[39;00m \u001b[38;5;28;43mself\u001b[39;49m\u001b[43m.\u001b[49m\u001b[43m_post\u001b[49m\u001b[43m(\u001b[49m\n\u001b[32m    926\u001b[39m \u001b[43m        \u001b[49m\u001b[33;43m\"\u001b[39;49m\u001b[33;43m/chat/completions\u001b[39;49m\u001b[33;43m\"\u001b[39;49m\u001b[43m,\u001b[49m\n\u001b[32m    927\u001b[39m \u001b[43m        \u001b[49m\u001b[43mbody\u001b[49m\u001b[43m=\u001b[49m\u001b[43mmaybe_transform\u001b[49m\u001b[43m(\u001b[49m\n\u001b[32m    928\u001b[39m \u001b[43m            \u001b[49m\u001b[43m{\u001b[49m\n\u001b[32m    929\u001b[39m \u001b[43m                \u001b[49m\u001b[33;43m\"\u001b[39;49m\u001b[33;43mmessages\u001b[39;49m\u001b[33;43m\"\u001b[39;49m\u001b[43m:\u001b[49m\u001b[43m \u001b[49m\u001b[43mmessages\u001b[49m\u001b[43m,\u001b[49m\n\u001b[32m    930\u001b[39m \u001b[43m                \u001b[49m\u001b[33;43m\"\u001b[39;49m\u001b[33;43mmodel\u001b[39;49m\u001b[33;43m\"\u001b[39;49m\u001b[43m:\u001b[49m\u001b[43m \u001b[49m\u001b[43mmodel\u001b[49m\u001b[43m,\u001b[49m\n\u001b[32m    931\u001b[39m \u001b[43m                \u001b[49m\u001b[33;43m\"\u001b[39;49m\u001b[33;43maudio\u001b[39;49m\u001b[33;43m\"\u001b[39;49m\u001b[43m:\u001b[49m\u001b[43m \u001b[49m\u001b[43maudio\u001b[49m\u001b[43m,\u001b[49m\n\u001b[32m    932\u001b[39m \u001b[43m                \u001b[49m\u001b[33;43m\"\u001b[39;49m\u001b[33;43mfrequency_penalty\u001b[39;49m\u001b[33;43m\"\u001b[39;49m\u001b[43m:\u001b[49m\u001b[43m \u001b[49m\u001b[43mfrequency_penalty\u001b[49m\u001b[43m,\u001b[49m\n\u001b[32m    933\u001b[39m \u001b[43m                \u001b[49m\u001b[33;43m\"\u001b[39;49m\u001b[33;43mfunction_call\u001b[39;49m\u001b[33;43m\"\u001b[39;49m\u001b[43m:\u001b[49m\u001b[43m \u001b[49m\u001b[43mfunction_call\u001b[49m\u001b[43m,\u001b[49m\n\u001b[32m    934\u001b[39m \u001b[43m                \u001b[49m\u001b[33;43m\"\u001b[39;49m\u001b[33;43mfunctions\u001b[39;49m\u001b[33;43m\"\u001b[39;49m\u001b[43m:\u001b[49m\u001b[43m \u001b[49m\u001b[43mfunctions\u001b[49m\u001b[43m,\u001b[49m\n\u001b[32m    935\u001b[39m \u001b[43m                \u001b[49m\u001b[33;43m\"\u001b[39;49m\u001b[33;43mlogit_bias\u001b[39;49m\u001b[33;43m\"\u001b[39;49m\u001b[43m:\u001b[49m\u001b[43m \u001b[49m\u001b[43mlogit_bias\u001b[49m\u001b[43m,\u001b[49m\n\u001b[32m    936\u001b[39m \u001b[43m                \u001b[49m\u001b[33;43m\"\u001b[39;49m\u001b[33;43mlogprobs\u001b[39;49m\u001b[33;43m\"\u001b[39;49m\u001b[43m:\u001b[49m\u001b[43m \u001b[49m\u001b[43mlogprobs\u001b[49m\u001b[43m,\u001b[49m\n\u001b[32m    937\u001b[39m \u001b[43m                \u001b[49m\u001b[33;43m\"\u001b[39;49m\u001b[33;43mmax_completion_tokens\u001b[39;49m\u001b[33;43m\"\u001b[39;49m\u001b[43m:\u001b[49m\u001b[43m \u001b[49m\u001b[43mmax_completion_tokens\u001b[49m\u001b[43m,\u001b[49m\n\u001b[32m    938\u001b[39m \u001b[43m                \u001b[49m\u001b[33;43m\"\u001b[39;49m\u001b[33;43mmax_tokens\u001b[39;49m\u001b[33;43m\"\u001b[39;49m\u001b[43m:\u001b[49m\u001b[43m \u001b[49m\u001b[43mmax_tokens\u001b[49m\u001b[43m,\u001b[49m\n\u001b[32m    939\u001b[39m \u001b[43m                \u001b[49m\u001b[33;43m\"\u001b[39;49m\u001b[33;43mmetadata\u001b[39;49m\u001b[33;43m\"\u001b[39;49m\u001b[43m:\u001b[49m\u001b[43m \u001b[49m\u001b[43mmetadata\u001b[49m\u001b[43m,\u001b[49m\n\u001b[32m    940\u001b[39m \u001b[43m                \u001b[49m\u001b[33;43m\"\u001b[39;49m\u001b[33;43mmodalities\u001b[39;49m\u001b[33;43m\"\u001b[39;49m\u001b[43m:\u001b[49m\u001b[43m \u001b[49m\u001b[43mmodalities\u001b[49m\u001b[43m,\u001b[49m\n\u001b[32m    941\u001b[39m \u001b[43m                \u001b[49m\u001b[33;43m\"\u001b[39;49m\u001b[33;43mn\u001b[39;49m\u001b[33;43m\"\u001b[39;49m\u001b[43m:\u001b[49m\u001b[43m \u001b[49m\u001b[43mn\u001b[49m\u001b[43m,\u001b[49m\n\u001b[32m    942\u001b[39m \u001b[43m                \u001b[49m\u001b[33;43m\"\u001b[39;49m\u001b[33;43mparallel_tool_calls\u001b[39;49m\u001b[33;43m\"\u001b[39;49m\u001b[43m:\u001b[49m\u001b[43m \u001b[49m\u001b[43mparallel_tool_calls\u001b[49m\u001b[43m,\u001b[49m\n\u001b[32m    943\u001b[39m \u001b[43m                \u001b[49m\u001b[33;43m\"\u001b[39;49m\u001b[33;43mprediction\u001b[39;49m\u001b[33;43m\"\u001b[39;49m\u001b[43m:\u001b[49m\u001b[43m \u001b[49m\u001b[43mprediction\u001b[49m\u001b[43m,\u001b[49m\n\u001b[32m    944\u001b[39m \u001b[43m                \u001b[49m\u001b[33;43m\"\u001b[39;49m\u001b[33;43mpresence_penalty\u001b[39;49m\u001b[33;43m\"\u001b[39;49m\u001b[43m:\u001b[49m\u001b[43m \u001b[49m\u001b[43mpresence_penalty\u001b[49m\u001b[43m,\u001b[49m\n\u001b[32m    945\u001b[39m \u001b[43m                \u001b[49m\u001b[33;43m\"\u001b[39;49m\u001b[33;43mreasoning_effort\u001b[39;49m\u001b[33;43m\"\u001b[39;49m\u001b[43m:\u001b[49m\u001b[43m \u001b[49m\u001b[43mreasoning_effort\u001b[49m\u001b[43m,\u001b[49m\n\u001b[32m    946\u001b[39m \u001b[43m                \u001b[49m\u001b[33;43m\"\u001b[39;49m\u001b[33;43mresponse_format\u001b[39;49m\u001b[33;43m\"\u001b[39;49m\u001b[43m:\u001b[49m\u001b[43m \u001b[49m\u001b[43mresponse_format\u001b[49m\u001b[43m,\u001b[49m\n\u001b[32m    947\u001b[39m \u001b[43m                \u001b[49m\u001b[33;43m\"\u001b[39;49m\u001b[33;43mseed\u001b[39;49m\u001b[33;43m\"\u001b[39;49m\u001b[43m:\u001b[49m\u001b[43m \u001b[49m\u001b[43mseed\u001b[49m\u001b[43m,\u001b[49m\n\u001b[32m    948\u001b[39m \u001b[43m                \u001b[49m\u001b[33;43m\"\u001b[39;49m\u001b[33;43mservice_tier\u001b[39;49m\u001b[33;43m\"\u001b[39;49m\u001b[43m:\u001b[49m\u001b[43m \u001b[49m\u001b[43mservice_tier\u001b[49m\u001b[43m,\u001b[49m\n\u001b[32m    949\u001b[39m \u001b[43m                \u001b[49m\u001b[33;43m\"\u001b[39;49m\u001b[33;43mstop\u001b[39;49m\u001b[33;43m\"\u001b[39;49m\u001b[43m:\u001b[49m\u001b[43m \u001b[49m\u001b[43mstop\u001b[49m\u001b[43m,\u001b[49m\n\u001b[32m    950\u001b[39m \u001b[43m                \u001b[49m\u001b[33;43m\"\u001b[39;49m\u001b[33;43mstore\u001b[39;49m\u001b[33;43m\"\u001b[39;49m\u001b[43m:\u001b[49m\u001b[43m \u001b[49m\u001b[43mstore\u001b[49m\u001b[43m,\u001b[49m\n\u001b[32m    951\u001b[39m \u001b[43m                \u001b[49m\u001b[33;43m\"\u001b[39;49m\u001b[33;43mstream\u001b[39;49m\u001b[33;43m\"\u001b[39;49m\u001b[43m:\u001b[49m\u001b[43m \u001b[49m\u001b[43mstream\u001b[49m\u001b[43m,\u001b[49m\n\u001b[32m    952\u001b[39m \u001b[43m                \u001b[49m\u001b[33;43m\"\u001b[39;49m\u001b[33;43mstream_options\u001b[39;49m\u001b[33;43m\"\u001b[39;49m\u001b[43m:\u001b[49m\u001b[43m \u001b[49m\u001b[43mstream_options\u001b[49m\u001b[43m,\u001b[49m\n\u001b[32m    953\u001b[39m \u001b[43m                \u001b[49m\u001b[33;43m\"\u001b[39;49m\u001b[33;43mtemperature\u001b[39;49m\u001b[33;43m\"\u001b[39;49m\u001b[43m:\u001b[49m\u001b[43m \u001b[49m\u001b[43mtemperature\u001b[49m\u001b[43m,\u001b[49m\n\u001b[32m    954\u001b[39m \u001b[43m                \u001b[49m\u001b[33;43m\"\u001b[39;49m\u001b[33;43mtool_choice\u001b[39;49m\u001b[33;43m\"\u001b[39;49m\u001b[43m:\u001b[49m\u001b[43m \u001b[49m\u001b[43mtool_choice\u001b[49m\u001b[43m,\u001b[49m\n\u001b[32m    955\u001b[39m \u001b[43m                \u001b[49m\u001b[33;43m\"\u001b[39;49m\u001b[33;43mtools\u001b[39;49m\u001b[33;43m\"\u001b[39;49m\u001b[43m:\u001b[49m\u001b[43m \u001b[49m\u001b[43mtools\u001b[49m\u001b[43m,\u001b[49m\n\u001b[32m    956\u001b[39m \u001b[43m                \u001b[49m\u001b[33;43m\"\u001b[39;49m\u001b[33;43mtop_logprobs\u001b[39;49m\u001b[33;43m\"\u001b[39;49m\u001b[43m:\u001b[49m\u001b[43m \u001b[49m\u001b[43mtop_logprobs\u001b[49m\u001b[43m,\u001b[49m\n\u001b[32m    957\u001b[39m \u001b[43m                \u001b[49m\u001b[33;43m\"\u001b[39;49m\u001b[33;43mtop_p\u001b[39;49m\u001b[33;43m\"\u001b[39;49m\u001b[43m:\u001b[49m\u001b[43m \u001b[49m\u001b[43mtop_p\u001b[49m\u001b[43m,\u001b[49m\n\u001b[32m    958\u001b[39m \u001b[43m                \u001b[49m\u001b[33;43m\"\u001b[39;49m\u001b[33;43muser\u001b[39;49m\u001b[33;43m\"\u001b[39;49m\u001b[43m:\u001b[49m\u001b[43m \u001b[49m\u001b[43muser\u001b[49m\u001b[43m,\u001b[49m\n\u001b[32m    959\u001b[39m \u001b[43m                \u001b[49m\u001b[33;43m\"\u001b[39;49m\u001b[33;43mweb_search_options\u001b[39;49m\u001b[33;43m\"\u001b[39;49m\u001b[43m:\u001b[49m\u001b[43m \u001b[49m\u001b[43mweb_search_options\u001b[49m\u001b[43m,\u001b[49m\n\u001b[32m    960\u001b[39m \u001b[43m            \u001b[49m\u001b[43m}\u001b[49m\u001b[43m,\u001b[49m\n\u001b[32m    961\u001b[39m \u001b[43m            \u001b[49m\u001b[43mcompletion_create_params\u001b[49m\u001b[43m.\u001b[49m\u001b[43mCompletionCreateParamsStreaming\u001b[49m\n\u001b[32m    962\u001b[39m \u001b[43m            \u001b[49m\u001b[38;5;28;43;01mif\u001b[39;49;00m\u001b[43m \u001b[49m\u001b[43mstream\u001b[49m\n\u001b[32m    963\u001b[39m \u001b[43m            \u001b[49m\u001b[38;5;28;43;01melse\u001b[39;49;00m\u001b[43m \u001b[49m\u001b[43mcompletion_create_params\u001b[49m\u001b[43m.\u001b[49m\u001b[43mCompletionCreateParamsNonStreaming\u001b[49m\u001b[43m,\u001b[49m\n\u001b[32m    964\u001b[39m \u001b[43m        \u001b[49m\u001b[43m)\u001b[49m\u001b[43m,\u001b[49m\n\u001b[32m    965\u001b[39m \u001b[43m        \u001b[49m\u001b[43moptions\u001b[49m\u001b[43m=\u001b[49m\u001b[43mmake_request_options\u001b[49m\u001b[43m(\u001b[49m\n\u001b[32m    966\u001b[39m \u001b[43m            \u001b[49m\u001b[43mextra_headers\u001b[49m\u001b[43m=\u001b[49m\u001b[43mextra_headers\u001b[49m\u001b[43m,\u001b[49m\u001b[43m \u001b[49m\u001b[43mextra_query\u001b[49m\u001b[43m=\u001b[49m\u001b[43mextra_query\u001b[49m\u001b[43m,\u001b[49m\u001b[43m \u001b[49m\u001b[43mextra_body\u001b[49m\u001b[43m=\u001b[49m\u001b[43mextra_body\u001b[49m\u001b[43m,\u001b[49m\u001b[43m \u001b[49m\u001b[43mtimeout\u001b[49m\u001b[43m=\u001b[49m\u001b[43mtimeout\u001b[49m\n\u001b[32m    967\u001b[39m \u001b[43m        \u001b[49m\u001b[43m)\u001b[49m\u001b[43m,\u001b[49m\n\u001b[32m    968\u001b[39m \u001b[43m        \u001b[49m\u001b[43mcast_to\u001b[49m\u001b[43m=\u001b[49m\u001b[43mChatCompletion\u001b[49m\u001b[43m,\u001b[49m\n\u001b[32m    969\u001b[39m \u001b[43m        \u001b[49m\u001b[43mstream\u001b[49m\u001b[43m=\u001b[49m\u001b[43mstream\u001b[49m\u001b[43m \u001b[49m\u001b[38;5;129;43;01mor\u001b[39;49;00m\u001b[43m \u001b[49m\u001b[38;5;28;43;01mFalse\u001b[39;49;00m\u001b[43m,\u001b[49m\n\u001b[32m    970\u001b[39m \u001b[43m        \u001b[49m\u001b[43mstream_cls\u001b[49m\u001b[43m=\u001b[49m\u001b[43mStream\u001b[49m\u001b[43m[\u001b[49m\u001b[43mChatCompletionChunk\u001b[49m\u001b[43m]\u001b[49m\u001b[43m,\u001b[49m\n\u001b[32m    971\u001b[39m \u001b[43m    \u001b[49m\u001b[43m)\u001b[49m\n",
      "\u001b[36mFile \u001b[39m\u001b[32md:\\gen_ai\\.venv\\Lib\\site-packages\\openai\\_base_client.py:1242\u001b[39m, in \u001b[36mSyncAPIClient.post\u001b[39m\u001b[34m(self, path, cast_to, body, options, files, stream, stream_cls)\u001b[39m\n\u001b[32m   1228\u001b[39m \u001b[38;5;28;01mdef\u001b[39;00m\u001b[38;5;250m \u001b[39m\u001b[34mpost\u001b[39m(\n\u001b[32m   1229\u001b[39m     \u001b[38;5;28mself\u001b[39m,\n\u001b[32m   1230\u001b[39m     path: \u001b[38;5;28mstr\u001b[39m,\n\u001b[32m   (...)\u001b[39m\u001b[32m   1237\u001b[39m     stream_cls: \u001b[38;5;28mtype\u001b[39m[_StreamT] | \u001b[38;5;28;01mNone\u001b[39;00m = \u001b[38;5;28;01mNone\u001b[39;00m,\n\u001b[32m   1238\u001b[39m ) -> ResponseT | _StreamT:\n\u001b[32m   1239\u001b[39m     opts = FinalRequestOptions.construct(\n\u001b[32m   1240\u001b[39m         method=\u001b[33m\"\u001b[39m\u001b[33mpost\u001b[39m\u001b[33m\"\u001b[39m, url=path, json_data=body, files=to_httpx_files(files), **options\n\u001b[32m   1241\u001b[39m     )\n\u001b[32m-> \u001b[39m\u001b[32m1242\u001b[39m     \u001b[38;5;28;01mreturn\u001b[39;00m cast(ResponseT, \u001b[38;5;28;43mself\u001b[39;49m\u001b[43m.\u001b[49m\u001b[43mrequest\u001b[49m\u001b[43m(\u001b[49m\u001b[43mcast_to\u001b[49m\u001b[43m,\u001b[49m\u001b[43m \u001b[49m\u001b[43mopts\u001b[49m\u001b[43m,\u001b[49m\u001b[43m \u001b[49m\u001b[43mstream\u001b[49m\u001b[43m=\u001b[49m\u001b[43mstream\u001b[49m\u001b[43m,\u001b[49m\u001b[43m \u001b[49m\u001b[43mstream_cls\u001b[49m\u001b[43m=\u001b[49m\u001b[43mstream_cls\u001b[49m\u001b[43m)\u001b[49m)\n",
      "\u001b[36mFile \u001b[39m\u001b[32md:\\gen_ai\\.venv\\Lib\\site-packages\\openai\\_base_client.py:1037\u001b[39m, in \u001b[36mSyncAPIClient.request\u001b[39m\u001b[34m(self, cast_to, options, stream, stream_cls)\u001b[39m\n\u001b[32m   1034\u001b[39m             err.response.read()\n\u001b[32m   1036\u001b[39m         log.debug(\u001b[33m\"\u001b[39m\u001b[33mRe-raising status error\u001b[39m\u001b[33m\"\u001b[39m)\n\u001b[32m-> \u001b[39m\u001b[32m1037\u001b[39m         \u001b[38;5;28;01mraise\u001b[39;00m \u001b[38;5;28mself\u001b[39m._make_status_error_from_response(err.response) \u001b[38;5;28;01mfrom\u001b[39;00m\u001b[38;5;250m \u001b[39m\u001b[38;5;28;01mNone\u001b[39;00m\n\u001b[32m   1039\u001b[39m     \u001b[38;5;28;01mbreak\u001b[39;00m\n\u001b[32m   1041\u001b[39m \u001b[38;5;28;01massert\u001b[39;00m response \u001b[38;5;129;01mis\u001b[39;00m \u001b[38;5;129;01mnot\u001b[39;00m \u001b[38;5;28;01mNone\u001b[39;00m, \u001b[33m\"\u001b[39m\u001b[33mcould not resolve response (should never happen)\u001b[39m\u001b[33m\"\u001b[39m\n",
      "\u001b[31mBadRequestError\u001b[39m: Error code: 400 - [{'error': {'code': 400, 'message': 'API key not valid. Please pass a valid API key.', 'status': 'INVALID_ARGUMENT', 'details': [{'@type': 'type.googleapis.com/google.rpc.ErrorInfo', 'reason': 'API_KEY_INVALID', 'domain': 'googleapis.com', 'metadata': {'service': 'generativelanguage.googleapis.com'}}, {'@type': 'type.googleapis.com/google.rpc.LocalizedMessage', 'locale': 'en-US', 'message': 'API key not valid. Please pass a valid API key.'}]}}]"
     ]
    }
   ],
   "source": [
    "gemini = OpenAI(api_key=google_api_key, base_url=\"https://generativelanguage.googleapis.com/v1beta/openai/\")\n",
    "model_name = \"gemini-2.0-flash\"\n",
    "\n",
    "response = gemini.chat.completions.create(model=model_name, messages=messages)\n",
    "answer = response.choices[0].message.content\n",
    "\n",
    "display(Markdown(answer))\n",
    "competitors.append(model_name)\n",
    "answers.append(answer)"
   ]
  },
  {
   "cell_type": "code",
   "execution_count": null,
   "metadata": {},
   "outputs": [],
   "source": [
    "deepseek = OpenAI(api_key=deepseek_api_key, base_url=\"https://api.deepseek.com/v1\")\n",
    "model_name = \"deepseek-chat\"\n",
    "\n",
    "response = deepseek.chat.completions.create(model=model_name, messages=messages)\n",
    "answer = response.choices[0].message.content\n",
    "\n",
    "display(Markdown(answer))\n",
    "competitors.append(model_name)\n",
    "answers.append(answer)"
   ]
  },
  {
   "cell_type": "code",
   "execution_count": null,
   "metadata": {},
   "outputs": [],
   "source": [
    "groq = OpenAI(api_key=groq_api_key, base_url=\"https://api.groq.com/openai/v1\")\n",
    "model_name = \"llama-3.3-70b-versatile\"\n",
    "\n",
    "response = groq.chat.completions.create(model=model_name, messages=messages)\n",
    "answer = response.choices[0].message.content\n",
    "\n",
    "display(Markdown(answer))\n",
    "competitors.append(model_name)\n",
    "answers.append(answer)\n"
   ]
  },
  {
   "cell_type": "markdown",
   "metadata": {},
   "source": [
    "## For the next cell, we will use Ollama\n",
    "\n",
    "Ollama runs a local web service that gives an OpenAI compatible endpoint,  \n",
    "and runs models locally using high performance C++ code.\n",
    "\n",
    "If you don't have Ollama, install it here by visiting https://ollama.com then pressing Download and following the instructions.\n",
    "\n",
    "After it's installed, you should be able to visit here: http://localhost:11434 and see the message \"Ollama is running\"\n",
    "\n",
    "You might need to restart Cursor (and maybe reboot). Then open a Terminal (control+\\`) and run `ollama serve`\n",
    "\n",
    "Useful Ollama commands (run these in the terminal, or with an exclamation mark in this notebook):\n",
    "\n",
    "`ollama pull <model_name>` downloads a model locally  \n",
    "`ollama ls` lists all the models you've downloaded  \n",
    "`ollama rm <model_name>` deletes the specified model from your downloads"
   ]
  },
  {
   "cell_type": "markdown",
   "metadata": {},
   "source": [
    "<table style=\"margin: 0; text-align: left; width:100%\">\n",
    "    <tr>\n",
    "        <td style=\"width: 150px; height: 150px; vertical-align: middle;\">\n",
    "            <img src=\"../assets/stop.png\" width=\"150\" height=\"150\" style=\"display: block;\" />\n",
    "        </td>\n",
    "        <td>\n",
    "            <h2 style=\"color:#ff7800;\">Super important - ignore me at your peril!</h2>\n",
    "            <span style=\"color:#ff7800;\">The model called <b>llama3.3</b> is FAR too large for home computers - it's not intended for personal computing and will consume all your resources! Stick with the nicely sized <b>llama3.2</b> or <b>llama3.2:1b</b> and if you want larger, try llama3.1 or smaller variants of Qwen, Gemma, Phi or DeepSeek. See the <A href=\"https://ollama.com/models\">the Ollama models page</a> for a full list of models and sizes.\n",
    "            </span>\n",
    "        </td>\n",
    "    </tr>\n",
    "</table>"
   ]
  },
  {
   "cell_type": "code",
   "execution_count": 11,
   "metadata": {},
   "outputs": [
    {
     "name": "stderr",
     "output_type": "stream",
     "text": [
      "'ollama' is not recognized as an internal or external command,\n",
      "operable program or batch file.\n"
     ]
    }
   ],
   "source": [
    "!ollama pull llama3.2"
   ]
  },
  {
   "cell_type": "code",
   "execution_count": 12,
   "metadata": {},
   "outputs": [
    {
     "data": {
      "text/markdown": [
       "If I were given the power to redesign a fundamental aspect of human society, I would choose to redesign the concept of work and the way we organize our economies with the goal of maximizing well-being for everyone while minimizing inequality.\n",
       "\n",
       "**The Issue:**\n",
       "\n",
       "Our current economic systems are built around the principles of competition, scarcity, and efficiency. This leads to many inherent problems, such as:\n",
       "\n",
       "1.  Inequality: A small elite holds most of the wealth and power.\n",
       "2.  Burnout: The constant pressure to produce and compete leads to high rates of stress, anxiety, and burnout.\n",
       "3.  Limited leisure time: The focus on work often results in very little free time for personal activities, hobbies, or relationships.\n",
       "\n",
       "**The Solution:**\n",
       "\n",
       "I would redesign the concept of work by implementing a Universal Basic Income (UBI) and a Post-Scarcity Economy. Here's how I would implement these changes:\n",
       "\n",
       "1.  **Universal Basic Income (UBI):** A UBI is a guaranteed minimum income that every citizen receives, regardless of their employment status. This would provide a safety net, ensuring everyone has enough money to live modestly and cover essential expenses.\n",
       "\n",
       "2.  **Post-Scarcity Economy:** In this system, technology and automation are used to provide all basic needs, such as food, housing, healthcare, education, and energy.  Resources like clean water, land, air, sunlight, wind, rain, trees, animals would be allocated based on environmental criteria: the ecosystem’s ecological footprint.\n",
       "\n",
       "3.  **Time Banking:** A time banking system allows people to exchange time instead of money for goods and services. This promotes cooperation, community-building, and a focus on skills over financial wealth.\n",
       "\n",
       "4.  **Autonomization Co-operatives (AC):** Cooperative ownership is a way everyone can be part of decision-making processes without having to own the company. Each worker becomes a member- owner working collaboratively to make collective strategies for growth and maintaining company integrity.\n",
       "\n",
       "By implementing these changes, we could minimize inequality while maximizing well-being for everyone. Here's why:\n",
       "\n",
       "1.  **Reduced Poverty:** A UBI would ensure that no one has to live in poverty or struggle to meet their basic needs.\n",
       "2.  **Increased Leisure Time:** With a guaranteed minimum income and sufficient time for personal activities, people would have the space and resources needed to pursue hobbies, creative interests, or simple relaxation.\n",
       "3.  **Reduced Burnout and Stress:** By removing financial pressures and providing access to resources like clean energy, food, healthcare, education, everyone could enjoy better working conditions and overall well-being.\n",
       "\n",
       "Overall, a UBI and Post-Scarcity Economy would give individuals the freedom to pursue their passions, reduce stress, and promote a healthier relationship between work and personal life."
      ],
      "text/plain": [
       "<IPython.core.display.Markdown object>"
      ]
     },
     "metadata": {},
     "output_type": "display_data"
    }
   ],
   "source": [
    "ollama = OpenAI(base_url='http://localhost:11434/v1', api_key='ollama')\n",
    "model_name = \"llama3.2\"\n",
    "\n",
    "response = ollama.chat.completions.create(model=model_name, messages=messages)\n",
    "answer = response.choices[0].message.content\n",
    "\n",
    "display(Markdown(answer))\n",
    "competitors.append(model_name)\n",
    "answers.append(answer)"
   ]
  },
  {
   "cell_type": "code",
   "execution_count": 13,
   "metadata": {},
   "outputs": [
    {
     "name": "stdout",
     "output_type": "stream",
     "text": [
      "['gpt-4o-mini', 'llama3.2']\n",
      "['If I were given the power to redesign one fundamental aspect of human society, I would choose education. The rationale behind this choice is that education is foundational to personal development and has the power to break the cycle of poverty, promote equality, and foster informed and engaged citizens. By redesigning education, we can address many systemic issues in governance, healthcare, and socioeconomic disparities.\\n\\n### Proposed Redesign: A Holistic Education System\\n\\n**1. Core Principles:**\\n   - **Accessibility:** Ensure that quality education is universally accessible regardless of geographical location, socioeconomic status, or personal circumstances.\\n   - **Inclusivity:** Curriculum and teaching methods should cater to diverse learning styles and needs, promoting equity among all students.\\n   - **Lifelong Learning:** Foster a culture where education is seen as a continuous journey, not limited to early life but adaptable to all stages of life.\\n   - **Skill Integration:** Emphasize a curriculum that integrates cognitive skills, emotional intelligence, critical thinking, and practical life skills.\\n\\n### Implementation Steps:\\n\\n**1. Universal Access:**\\n   - **Digital Infrastructure:** Invest in infrastructure to ensure high-speed internet access for all, particularly in underserved areas, along with devices for students.\\n   - **Free Education:** Provide free tuition for all levels from early childhood through higher education, funded through progressive taxation and public-private partnerships.\\n\\n**2. Curriculum Overhaul:**\\n   - **Multidisciplinary Approach:** Redesign curriculum to include not just traditional subjects (math, science, literature) but also mental health education, financial literacy, environmental studies, and technology skills.\\n   - **Project-Based Learning:** Implement hands-on, project-based learning that emphasizes collaboration, creativity, and problem-solving over rote memorization.\\n\\n**3. Training Educators:**\\n   - **Continuous Professional Development:** Establish ongoing professional development programs for teachers that emphasize not only subject knowledge but also pedagogy, inclusivity, and mental health support.\\n   - **Diverse Hiring Practices:** Actively recruit a diverse teaching workforce that reflects the communities they serve to foster relatability and understanding.\\n\\n**4. Community Involvement:**\\n   - **Local Partnerships:** Partner with local businesses, nonprofits, and community organizations to provide mentorship, apprenticeships, and practical learning opportunities.\\n   - **Family Engagement:** Design programs that involve families in the educational process, fostering stronger support systems for students.\\n\\n**5. Assessment and Feedback:**\\n   - **Holistic Assessment Models:** Move away from standardized testing as the primary mode of assessment. Instead, incorporate portfolio assessments, peer evaluations, and self-reflective practices.\\n   - **Iterative Feedback Loop:** Create a feedback system that continuously gathers input from students, parents, and teachers to adapt and improve educational practices and policies.\\n\\n**6. Focus on Mental and Emotional Health:**\\n   - **Wellness Programs:** Integrate mental health resources within schools, including counselors and wellness programs, to ensure students’ emotional and psychological needs are met.\\n   - **Mindfulness and Resilience Training:** Introduce curricula that teach resilience, empathy, and mindfulness as tools for personal and social development.\\n\\n### Expected Outcomes:\\n\\nBy redesigning the education system with these principles and actionable steps, we can achieve a more equitable society where everyone has the opportunity to succeed. A well-educated population is better equipped to engage in civic life, pursue innovations in healthcare and governance, and contribute positively to the economy. Over time, this holistic approach to education has the potential to significantly reduce inequality, promote social mobility, and enhance overall well-being for individuals and communities alike.', \"If I were given the power to redesign a fundamental aspect of human society, I would choose to redesign the concept of work and the way we organize our economies with the goal of maximizing well-being for everyone while minimizing inequality.\\n\\n**The Issue:**\\n\\nOur current economic systems are built around the principles of competition, scarcity, and efficiency. This leads to many inherent problems, such as:\\n\\n1.  Inequality: A small elite holds most of the wealth and power.\\n2.  Burnout: The constant pressure to produce and compete leads to high rates of stress, anxiety, and burnout.\\n3.  Limited leisure time: The focus on work often results in very little free time for personal activities, hobbies, or relationships.\\n\\n**The Solution:**\\n\\nI would redesign the concept of work by implementing a Universal Basic Income (UBI) and a Post-Scarcity Economy. Here's how I would implement these changes:\\n\\n1.  **Universal Basic Income (UBI):** A UBI is a guaranteed minimum income that every citizen receives, regardless of their employment status. This would provide a safety net, ensuring everyone has enough money to live modestly and cover essential expenses.\\n\\n2.  **Post-Scarcity Economy:** In this system, technology and automation are used to provide all basic needs, such as food, housing, healthcare, education, and energy.  Resources like clean water, land, air, sunlight, wind, rain, trees, animals would be allocated based on environmental criteria: the ecosystem’s ecological footprint.\\n\\n3.  **Time Banking:** A time banking system allows people to exchange time instead of money for goods and services. This promotes cooperation, community-building, and a focus on skills over financial wealth.\\n\\n4.  **Autonomization Co-operatives (AC):** Cooperative ownership is a way everyone can be part of decision-making processes without having to own the company. Each worker becomes a member- owner working collaboratively to make collective strategies for growth and maintaining company integrity.\\n\\nBy implementing these changes, we could minimize inequality while maximizing well-being for everyone. Here's why:\\n\\n1.  **Reduced Poverty:** A UBI would ensure that no one has to live in poverty or struggle to meet their basic needs.\\n2.  **Increased Leisure Time:** With a guaranteed minimum income and sufficient time for personal activities, people would have the space and resources needed to pursue hobbies, creative interests, or simple relaxation.\\n3.  **Reduced Burnout and Stress:** By removing financial pressures and providing access to resources like clean energy, food, healthcare, education, everyone could enjoy better working conditions and overall well-being.\\n\\nOverall, a UBI and Post-Scarcity Economy would give individuals the freedom to pursue their passions, reduce stress, and promote a healthier relationship between work and personal life.\"]\n"
     ]
    }
   ],
   "source": [
    "# So where are we?\n",
    "\n",
    "print(competitors)\n",
    "print(answers)\n"
   ]
  },
  {
   "cell_type": "code",
   "execution_count": 14,
   "metadata": {},
   "outputs": [
    {
     "name": "stdout",
     "output_type": "stream",
     "text": [
      "Competitor: gpt-4o-mini\n",
      "\n",
      "If I were given the power to redesign one fundamental aspect of human society, I would choose education. The rationale behind this choice is that education is foundational to personal development and has the power to break the cycle of poverty, promote equality, and foster informed and engaged citizens. By redesigning education, we can address many systemic issues in governance, healthcare, and socioeconomic disparities.\n",
      "\n",
      "### Proposed Redesign: A Holistic Education System\n",
      "\n",
      "**1. Core Principles:**\n",
      "   - **Accessibility:** Ensure that quality education is universally accessible regardless of geographical location, socioeconomic status, or personal circumstances.\n",
      "   - **Inclusivity:** Curriculum and teaching methods should cater to diverse learning styles and needs, promoting equity among all students.\n",
      "   - **Lifelong Learning:** Foster a culture where education is seen as a continuous journey, not limited to early life but adaptable to all stages of life.\n",
      "   - **Skill Integration:** Emphasize a curriculum that integrates cognitive skills, emotional intelligence, critical thinking, and practical life skills.\n",
      "\n",
      "### Implementation Steps:\n",
      "\n",
      "**1. Universal Access:**\n",
      "   - **Digital Infrastructure:** Invest in infrastructure to ensure high-speed internet access for all, particularly in underserved areas, along with devices for students.\n",
      "   - **Free Education:** Provide free tuition for all levels from early childhood through higher education, funded through progressive taxation and public-private partnerships.\n",
      "\n",
      "**2. Curriculum Overhaul:**\n",
      "   - **Multidisciplinary Approach:** Redesign curriculum to include not just traditional subjects (math, science, literature) but also mental health education, financial literacy, environmental studies, and technology skills.\n",
      "   - **Project-Based Learning:** Implement hands-on, project-based learning that emphasizes collaboration, creativity, and problem-solving over rote memorization.\n",
      "\n",
      "**3. Training Educators:**\n",
      "   - **Continuous Professional Development:** Establish ongoing professional development programs for teachers that emphasize not only subject knowledge but also pedagogy, inclusivity, and mental health support.\n",
      "   - **Diverse Hiring Practices:** Actively recruit a diverse teaching workforce that reflects the communities they serve to foster relatability and understanding.\n",
      "\n",
      "**4. Community Involvement:**\n",
      "   - **Local Partnerships:** Partner with local businesses, nonprofits, and community organizations to provide mentorship, apprenticeships, and practical learning opportunities.\n",
      "   - **Family Engagement:** Design programs that involve families in the educational process, fostering stronger support systems for students.\n",
      "\n",
      "**5. Assessment and Feedback:**\n",
      "   - **Holistic Assessment Models:** Move away from standardized testing as the primary mode of assessment. Instead, incorporate portfolio assessments, peer evaluations, and self-reflective practices.\n",
      "   - **Iterative Feedback Loop:** Create a feedback system that continuously gathers input from students, parents, and teachers to adapt and improve educational practices and policies.\n",
      "\n",
      "**6. Focus on Mental and Emotional Health:**\n",
      "   - **Wellness Programs:** Integrate mental health resources within schools, including counselors and wellness programs, to ensure students’ emotional and psychological needs are met.\n",
      "   - **Mindfulness and Resilience Training:** Introduce curricula that teach resilience, empathy, and mindfulness as tools for personal and social development.\n",
      "\n",
      "### Expected Outcomes:\n",
      "\n",
      "By redesigning the education system with these principles and actionable steps, we can achieve a more equitable society where everyone has the opportunity to succeed. A well-educated population is better equipped to engage in civic life, pursue innovations in healthcare and governance, and contribute positively to the economy. Over time, this holistic approach to education has the potential to significantly reduce inequality, promote social mobility, and enhance overall well-being for individuals and communities alike.\n",
      "Competitor: llama3.2\n",
      "\n",
      "If I were given the power to redesign a fundamental aspect of human society, I would choose to redesign the concept of work and the way we organize our economies with the goal of maximizing well-being for everyone while minimizing inequality.\n",
      "\n",
      "**The Issue:**\n",
      "\n",
      "Our current economic systems are built around the principles of competition, scarcity, and efficiency. This leads to many inherent problems, such as:\n",
      "\n",
      "1.  Inequality: A small elite holds most of the wealth and power.\n",
      "2.  Burnout: The constant pressure to produce and compete leads to high rates of stress, anxiety, and burnout.\n",
      "3.  Limited leisure time: The focus on work often results in very little free time for personal activities, hobbies, or relationships.\n",
      "\n",
      "**The Solution:**\n",
      "\n",
      "I would redesign the concept of work by implementing a Universal Basic Income (UBI) and a Post-Scarcity Economy. Here's how I would implement these changes:\n",
      "\n",
      "1.  **Universal Basic Income (UBI):** A UBI is a guaranteed minimum income that every citizen receives, regardless of their employment status. This would provide a safety net, ensuring everyone has enough money to live modestly and cover essential expenses.\n",
      "\n",
      "2.  **Post-Scarcity Economy:** In this system, technology and automation are used to provide all basic needs, such as food, housing, healthcare, education, and energy.  Resources like clean water, land, air, sunlight, wind, rain, trees, animals would be allocated based on environmental criteria: the ecosystem’s ecological footprint.\n",
      "\n",
      "3.  **Time Banking:** A time banking system allows people to exchange time instead of money for goods and services. This promotes cooperation, community-building, and a focus on skills over financial wealth.\n",
      "\n",
      "4.  **Autonomization Co-operatives (AC):** Cooperative ownership is a way everyone can be part of decision-making processes without having to own the company. Each worker becomes a member- owner working collaboratively to make collective strategies for growth and maintaining company integrity.\n",
      "\n",
      "By implementing these changes, we could minimize inequality while maximizing well-being for everyone. Here's why:\n",
      "\n",
      "1.  **Reduced Poverty:** A UBI would ensure that no one has to live in poverty or struggle to meet their basic needs.\n",
      "2.  **Increased Leisure Time:** With a guaranteed minimum income and sufficient time for personal activities, people would have the space and resources needed to pursue hobbies, creative interests, or simple relaxation.\n",
      "3.  **Reduced Burnout and Stress:** By removing financial pressures and providing access to resources like clean energy, food, healthcare, education, everyone could enjoy better working conditions and overall well-being.\n",
      "\n",
      "Overall, a UBI and Post-Scarcity Economy would give individuals the freedom to pursue their passions, reduce stress, and promote a healthier relationship between work and personal life.\n"
     ]
    }
   ],
   "source": [
    "# It's nice to know how to use \"zip\"\n",
    "for competitor, answer in zip(competitors, answers):\n",
    "    print(f\"Competitor: {competitor}\\n\\n{answer}\")\n"
   ]
  },
  {
   "cell_type": "code",
   "execution_count": 15,
   "metadata": {},
   "outputs": [],
   "source": [
    "# Let's bring this together - note the use of \"enumerate\"\n",
    "\n",
    "together = \"\"\n",
    "for index, answer in enumerate(answers):\n",
    "    together += f\"# Response from competitor {index+1}\\n\\n\"\n",
    "    together += answer + \"\\n\\n\""
   ]
  },
  {
   "cell_type": "code",
   "execution_count": 16,
   "metadata": {},
   "outputs": [
    {
     "name": "stdout",
     "output_type": "stream",
     "text": [
      "# Response from competitor 1\n",
      "\n",
      "If I were given the power to redesign one fundamental aspect of human society, I would choose education. The rationale behind this choice is that education is foundational to personal development and has the power to break the cycle of poverty, promote equality, and foster informed and engaged citizens. By redesigning education, we can address many systemic issues in governance, healthcare, and socioeconomic disparities.\n",
      "\n",
      "### Proposed Redesign: A Holistic Education System\n",
      "\n",
      "**1. Core Principles:**\n",
      "   - **Accessibility:** Ensure that quality education is universally accessible regardless of geographical location, socioeconomic status, or personal circumstances.\n",
      "   - **Inclusivity:** Curriculum and teaching methods should cater to diverse learning styles and needs, promoting equity among all students.\n",
      "   - **Lifelong Learning:** Foster a culture where education is seen as a continuous journey, not limited to early life but adaptable to all stages of life.\n",
      "   - **Skill Integration:** Emphasize a curriculum that integrates cognitive skills, emotional intelligence, critical thinking, and practical life skills.\n",
      "\n",
      "### Implementation Steps:\n",
      "\n",
      "**1. Universal Access:**\n",
      "   - **Digital Infrastructure:** Invest in infrastructure to ensure high-speed internet access for all, particularly in underserved areas, along with devices for students.\n",
      "   - **Free Education:** Provide free tuition for all levels from early childhood through higher education, funded through progressive taxation and public-private partnerships.\n",
      "\n",
      "**2. Curriculum Overhaul:**\n",
      "   - **Multidisciplinary Approach:** Redesign curriculum to include not just traditional subjects (math, science, literature) but also mental health education, financial literacy, environmental studies, and technology skills.\n",
      "   - **Project-Based Learning:** Implement hands-on, project-based learning that emphasizes collaboration, creativity, and problem-solving over rote memorization.\n",
      "\n",
      "**3. Training Educators:**\n",
      "   - **Continuous Professional Development:** Establish ongoing professional development programs for teachers that emphasize not only subject knowledge but also pedagogy, inclusivity, and mental health support.\n",
      "   - **Diverse Hiring Practices:** Actively recruit a diverse teaching workforce that reflects the communities they serve to foster relatability and understanding.\n",
      "\n",
      "**4. Community Involvement:**\n",
      "   - **Local Partnerships:** Partner with local businesses, nonprofits, and community organizations to provide mentorship, apprenticeships, and practical learning opportunities.\n",
      "   - **Family Engagement:** Design programs that involve families in the educational process, fostering stronger support systems for students.\n",
      "\n",
      "**5. Assessment and Feedback:**\n",
      "   - **Holistic Assessment Models:** Move away from standardized testing as the primary mode of assessment. Instead, incorporate portfolio assessments, peer evaluations, and self-reflective practices.\n",
      "   - **Iterative Feedback Loop:** Create a feedback system that continuously gathers input from students, parents, and teachers to adapt and improve educational practices and policies.\n",
      "\n",
      "**6. Focus on Mental and Emotional Health:**\n",
      "   - **Wellness Programs:** Integrate mental health resources within schools, including counselors and wellness programs, to ensure students’ emotional and psychological needs are met.\n",
      "   - **Mindfulness and Resilience Training:** Introduce curricula that teach resilience, empathy, and mindfulness as tools for personal and social development.\n",
      "\n",
      "### Expected Outcomes:\n",
      "\n",
      "By redesigning the education system with these principles and actionable steps, we can achieve a more equitable society where everyone has the opportunity to succeed. A well-educated population is better equipped to engage in civic life, pursue innovations in healthcare and governance, and contribute positively to the economy. Over time, this holistic approach to education has the potential to significantly reduce inequality, promote social mobility, and enhance overall well-being for individuals and communities alike.\n",
      "\n",
      "# Response from competitor 2\n",
      "\n",
      "If I were given the power to redesign a fundamental aspect of human society, I would choose to redesign the concept of work and the way we organize our economies with the goal of maximizing well-being for everyone while minimizing inequality.\n",
      "\n",
      "**The Issue:**\n",
      "\n",
      "Our current economic systems are built around the principles of competition, scarcity, and efficiency. This leads to many inherent problems, such as:\n",
      "\n",
      "1.  Inequality: A small elite holds most of the wealth and power.\n",
      "2.  Burnout: The constant pressure to produce and compete leads to high rates of stress, anxiety, and burnout.\n",
      "3.  Limited leisure time: The focus on work often results in very little free time for personal activities, hobbies, or relationships.\n",
      "\n",
      "**The Solution:**\n",
      "\n",
      "I would redesign the concept of work by implementing a Universal Basic Income (UBI) and a Post-Scarcity Economy. Here's how I would implement these changes:\n",
      "\n",
      "1.  **Universal Basic Income (UBI):** A UBI is a guaranteed minimum income that every citizen receives, regardless of their employment status. This would provide a safety net, ensuring everyone has enough money to live modestly and cover essential expenses.\n",
      "\n",
      "2.  **Post-Scarcity Economy:** In this system, technology and automation are used to provide all basic needs, such as food, housing, healthcare, education, and energy.  Resources like clean water, land, air, sunlight, wind, rain, trees, animals would be allocated based on environmental criteria: the ecosystem’s ecological footprint.\n",
      "\n",
      "3.  **Time Banking:** A time banking system allows people to exchange time instead of money for goods and services. This promotes cooperation, community-building, and a focus on skills over financial wealth.\n",
      "\n",
      "4.  **Autonomization Co-operatives (AC):** Cooperative ownership is a way everyone can be part of decision-making processes without having to own the company. Each worker becomes a member- owner working collaboratively to make collective strategies for growth and maintaining company integrity.\n",
      "\n",
      "By implementing these changes, we could minimize inequality while maximizing well-being for everyone. Here's why:\n",
      "\n",
      "1.  **Reduced Poverty:** A UBI would ensure that no one has to live in poverty or struggle to meet their basic needs.\n",
      "2.  **Increased Leisure Time:** With a guaranteed minimum income and sufficient time for personal activities, people would have the space and resources needed to pursue hobbies, creative interests, or simple relaxation.\n",
      "3.  **Reduced Burnout and Stress:** By removing financial pressures and providing access to resources like clean energy, food, healthcare, education, everyone could enjoy better working conditions and overall well-being.\n",
      "\n",
      "Overall, a UBI and Post-Scarcity Economy would give individuals the freedom to pursue their passions, reduce stress, and promote a healthier relationship between work and personal life.\n",
      "\n",
      "\n"
     ]
    }
   ],
   "source": [
    "print(together)"
   ]
  },
  {
   "cell_type": "code",
   "execution_count": 17,
   "metadata": {},
   "outputs": [],
   "source": [
    "judge = f\"\"\"You are judging a competition between {len(competitors)} competitors.\n",
    "Each model has been given this question:\n",
    "\n",
    "{question}\n",
    "\n",
    "Your job is to evaluate each response for clarity and strength of argument, and rank them in order of best to worst.\n",
    "Respond with JSON, and only JSON, with the following format:\n",
    "{{\"results\": [\"best competitor number\", \"second best competitor number\", \"third best competitor number\", ...]}}\n",
    "\n",
    "Here are the responses from each competitor:\n",
    "\n",
    "{together}\n",
    "\n",
    "Now respond with the JSON with the ranked order of the competitors, nothing else. Do not include markdown formatting or code blocks.\"\"\"\n"
   ]
  },
  {
   "cell_type": "code",
   "execution_count": 18,
   "metadata": {},
   "outputs": [
    {
     "name": "stdout",
     "output_type": "stream",
     "text": [
      "You are judging a competition between 2 competitors.\n",
      "Each model has been given this question:\n",
      "\n",
      "If you were given the power to redesign one fundamental aspect of human society—such as governance, education, or healthcare—with the goal of maximizing well-being for everyone while minimizing inequality, what would you choose to redesign, why, and how would you implement your changes?\n",
      "\n",
      "Your job is to evaluate each response for clarity and strength of argument, and rank them in order of best to worst.\n",
      "Respond with JSON, and only JSON, with the following format:\n",
      "{\"results\": [\"best competitor number\", \"second best competitor number\", \"third best competitor number\", ...]}\n",
      "\n",
      "Here are the responses from each competitor:\n",
      "\n",
      "# Response from competitor 1\n",
      "\n",
      "If I were given the power to redesign one fundamental aspect of human society, I would choose education. The rationale behind this choice is that education is foundational to personal development and has the power to break the cycle of poverty, promote equality, and foster informed and engaged citizens. By redesigning education, we can address many systemic issues in governance, healthcare, and socioeconomic disparities.\n",
      "\n",
      "### Proposed Redesign: A Holistic Education System\n",
      "\n",
      "**1. Core Principles:**\n",
      "   - **Accessibility:** Ensure that quality education is universally accessible regardless of geographical location, socioeconomic status, or personal circumstances.\n",
      "   - **Inclusivity:** Curriculum and teaching methods should cater to diverse learning styles and needs, promoting equity among all students.\n",
      "   - **Lifelong Learning:** Foster a culture where education is seen as a continuous journey, not limited to early life but adaptable to all stages of life.\n",
      "   - **Skill Integration:** Emphasize a curriculum that integrates cognitive skills, emotional intelligence, critical thinking, and practical life skills.\n",
      "\n",
      "### Implementation Steps:\n",
      "\n",
      "**1. Universal Access:**\n",
      "   - **Digital Infrastructure:** Invest in infrastructure to ensure high-speed internet access for all, particularly in underserved areas, along with devices for students.\n",
      "   - **Free Education:** Provide free tuition for all levels from early childhood through higher education, funded through progressive taxation and public-private partnerships.\n",
      "\n",
      "**2. Curriculum Overhaul:**\n",
      "   - **Multidisciplinary Approach:** Redesign curriculum to include not just traditional subjects (math, science, literature) but also mental health education, financial literacy, environmental studies, and technology skills.\n",
      "   - **Project-Based Learning:** Implement hands-on, project-based learning that emphasizes collaboration, creativity, and problem-solving over rote memorization.\n",
      "\n",
      "**3. Training Educators:**\n",
      "   - **Continuous Professional Development:** Establish ongoing professional development programs for teachers that emphasize not only subject knowledge but also pedagogy, inclusivity, and mental health support.\n",
      "   - **Diverse Hiring Practices:** Actively recruit a diverse teaching workforce that reflects the communities they serve to foster relatability and understanding.\n",
      "\n",
      "**4. Community Involvement:**\n",
      "   - **Local Partnerships:** Partner with local businesses, nonprofits, and community organizations to provide mentorship, apprenticeships, and practical learning opportunities.\n",
      "   - **Family Engagement:** Design programs that involve families in the educational process, fostering stronger support systems for students.\n",
      "\n",
      "**5. Assessment and Feedback:**\n",
      "   - **Holistic Assessment Models:** Move away from standardized testing as the primary mode of assessment. Instead, incorporate portfolio assessments, peer evaluations, and self-reflective practices.\n",
      "   - **Iterative Feedback Loop:** Create a feedback system that continuously gathers input from students, parents, and teachers to adapt and improve educational practices and policies.\n",
      "\n",
      "**6. Focus on Mental and Emotional Health:**\n",
      "   - **Wellness Programs:** Integrate mental health resources within schools, including counselors and wellness programs, to ensure students’ emotional and psychological needs are met.\n",
      "   - **Mindfulness and Resilience Training:** Introduce curricula that teach resilience, empathy, and mindfulness as tools for personal and social development.\n",
      "\n",
      "### Expected Outcomes:\n",
      "\n",
      "By redesigning the education system with these principles and actionable steps, we can achieve a more equitable society where everyone has the opportunity to succeed. A well-educated population is better equipped to engage in civic life, pursue innovations in healthcare and governance, and contribute positively to the economy. Over time, this holistic approach to education has the potential to significantly reduce inequality, promote social mobility, and enhance overall well-being for individuals and communities alike.\n",
      "\n",
      "# Response from competitor 2\n",
      "\n",
      "If I were given the power to redesign a fundamental aspect of human society, I would choose to redesign the concept of work and the way we organize our economies with the goal of maximizing well-being for everyone while minimizing inequality.\n",
      "\n",
      "**The Issue:**\n",
      "\n",
      "Our current economic systems are built around the principles of competition, scarcity, and efficiency. This leads to many inherent problems, such as:\n",
      "\n",
      "1.  Inequality: A small elite holds most of the wealth and power.\n",
      "2.  Burnout: The constant pressure to produce and compete leads to high rates of stress, anxiety, and burnout.\n",
      "3.  Limited leisure time: The focus on work often results in very little free time for personal activities, hobbies, or relationships.\n",
      "\n",
      "**The Solution:**\n",
      "\n",
      "I would redesign the concept of work by implementing a Universal Basic Income (UBI) and a Post-Scarcity Economy. Here's how I would implement these changes:\n",
      "\n",
      "1.  **Universal Basic Income (UBI):** A UBI is a guaranteed minimum income that every citizen receives, regardless of their employment status. This would provide a safety net, ensuring everyone has enough money to live modestly and cover essential expenses.\n",
      "\n",
      "2.  **Post-Scarcity Economy:** In this system, technology and automation are used to provide all basic needs, such as food, housing, healthcare, education, and energy.  Resources like clean water, land, air, sunlight, wind, rain, trees, animals would be allocated based on environmental criteria: the ecosystem’s ecological footprint.\n",
      "\n",
      "3.  **Time Banking:** A time banking system allows people to exchange time instead of money for goods and services. This promotes cooperation, community-building, and a focus on skills over financial wealth.\n",
      "\n",
      "4.  **Autonomization Co-operatives (AC):** Cooperative ownership is a way everyone can be part of decision-making processes without having to own the company. Each worker becomes a member- owner working collaboratively to make collective strategies for growth and maintaining company integrity.\n",
      "\n",
      "By implementing these changes, we could minimize inequality while maximizing well-being for everyone. Here's why:\n",
      "\n",
      "1.  **Reduced Poverty:** A UBI would ensure that no one has to live in poverty or struggle to meet their basic needs.\n",
      "2.  **Increased Leisure Time:** With a guaranteed minimum income and sufficient time for personal activities, people would have the space and resources needed to pursue hobbies, creative interests, or simple relaxation.\n",
      "3.  **Reduced Burnout and Stress:** By removing financial pressures and providing access to resources like clean energy, food, healthcare, education, everyone could enjoy better working conditions and overall well-being.\n",
      "\n",
      "Overall, a UBI and Post-Scarcity Economy would give individuals the freedom to pursue their passions, reduce stress, and promote a healthier relationship between work and personal life.\n",
      "\n",
      "\n",
      "\n",
      "Now respond with the JSON with the ranked order of the competitors, nothing else. Do not include markdown formatting or code blocks.\n"
     ]
    }
   ],
   "source": [
    "print(judge)"
   ]
  },
  {
   "cell_type": "code",
   "execution_count": 19,
   "metadata": {},
   "outputs": [],
   "source": [
    "judge_messages = [{\"role\": \"user\", \"content\": judge}]"
   ]
  },
  {
   "cell_type": "code",
   "execution_count": 20,
   "metadata": {},
   "outputs": [
    {
     "name": "stdout",
     "output_type": "stream",
     "text": [
      "{\"results\": [\"1\", \"2\"]}\n"
     ]
    }
   ],
   "source": [
    "# Judgement time!\n",
    "\n",
    "openai = OpenAI()\n",
    "response = openai.chat.completions.create(\n",
    "    model=\"o3-mini\",\n",
    "    messages=judge_messages,\n",
    ")\n",
    "results = response.choices[0].message.content\n",
    "print(results)\n"
   ]
  },
  {
   "cell_type": "code",
   "execution_count": 21,
   "metadata": {},
   "outputs": [
    {
     "name": "stdout",
     "output_type": "stream",
     "text": [
      "Rank 1: gpt-4o-mini\n",
      "Rank 2: llama3.2\n"
     ]
    }
   ],
   "source": [
    "# OK let's turn this into results!\n",
    "\n",
    "results_dict = json.loads(results)\n",
    "ranks = results_dict[\"results\"]\n",
    "for index, result in enumerate(ranks):\n",
    "    competitor = competitors[int(result)-1]\n",
    "    print(f\"Rank {index+1}: {competitor}\")"
   ]
  },
  {
   "cell_type": "markdown",
   "metadata": {},
   "source": [
    "<table style=\"margin: 0; text-align: left; width:100%\">\n",
    "    <tr>\n",
    "        <td style=\"width: 150px; height: 150px; vertical-align: middle;\">\n",
    "            <img src=\"../assets/business.png\" width=\"150\" height=\"150\" style=\"display: block;\" />\n",
    "        </td>\n",
    "        <td>\n",
    "            <h2 style=\"color:#00bfff;\">Commercial implications</h2>\n",
    "            <span style=\"color:#00bfff;\">These kinds of patterns - to send a task to multiple models, and evaluate results,\n",
    "            are common where you need to improve the quality of your LLM response. This approach can be universally applied\n",
    "            to business projects where accuracy is critical.\n",
    "            </span>\n",
    "        </td>\n",
    "    </tr>\n",
    "</table>"
   ]
  },
  {
   "cell_type": "markdown",
   "metadata": {},
   "source": [
    "<table style=\"margin: 0; text-align: left; width:100%\">\n",
    "    <tr>\n",
    "        <td style=\"width: 150px; height: 150px; vertical-align: middle;\">\n",
    "            <img src=\"../assets/exercise.png\" width=\"150\" height=\"150\" style=\"display: block;\" />\n",
    "        </td>\n",
    "        <td>\n",
    "            <h2 style=\"color:#ff7800;\">Exercise</h2>\n",
    "            <span style=\"color:#ff7800;\">Which pattern(s) did this use? Try updating this to add another Agentic design pattern.\n",
    "            </span>\n",
    "        </td>\n",
    "    </tr>\n",
    "</table>"
   ]
  },
  {
   "cell_type": "code",
   "execution_count": null,
   "metadata": {},
   "outputs": [],
   "source": []
  },
  {
   "cell_type": "code",
   "execution_count": null,
   "metadata": {},
   "outputs": [],
   "source": []
  },
  {
   "cell_type": "code",
   "execution_count": 22,
   "metadata": {},
   "outputs": [],
   "source": [
    "from openai import OpenAI"
   ]
  },
  {
   "cell_type": "code",
   "execution_count": 23,
   "metadata": {},
   "outputs": [],
   "source": [
    "open_ai = OpenAI()"
   ]
  },
  {
   "cell_type": "code",
   "execution_count": null,
   "metadata": {},
   "outputs": [],
   "source": [
    "messages = [\n",
    "    {\n",
    "        \"role\": \"user\",\n",
    "        \"content\": f\"\"\"\n",
    "            Give me a piece of code that is not more than 50 lines written in python language. \n",
    "            It should have subtle bugs. \n",
    "            Also, just give the code, nothing else.\n",
    "            Lastly, the output should be a string type and not markdown formatted.\n",
    "        \"\"\"\n",
    "    }\n",
    "]"
   ]
  },
  {
   "cell_type": "code",
   "execution_count": 25,
   "metadata": {},
   "outputs": [],
   "source": [
    "response = open_ai.chat.completions.create(\n",
    "    model=\"gpt-4.1-mini\",\n",
    "    messages=messages\n",
    ")"
   ]
  },
  {
   "cell_type": "code",
   "execution_count": 28,
   "metadata": {},
   "outputs": [],
   "source": [
    "response = response.choices[0].message.content"
   ]
  },
  {
   "cell_type": "code",
   "execution_count": 32,
   "metadata": {},
   "outputs": [],
   "source": [
    "response = Markdown(response)"
   ]
  },
  {
   "cell_type": "code",
   "execution_count": 33,
   "metadata": {},
   "outputs": [
    {
     "data": {
      "text/markdown": [
       "```python\n",
       "def find_duplicates(nums):\n",
       "    duplicates = []\n",
       "    seen = set()\n",
       "    for num in nums:\n",
       "        if num in seen:\n",
       "            duplicates.append(num)\n",
       "        seen.add(num)\n",
       "    return duplicates\n",
       "\n",
       "def factorial(n):\n",
       "    if n == 0:\n",
       "        return 1\n",
       "    else:\n",
       "        return n * factorial(n-1)\n",
       "\n",
       "def main():\n",
       "    numbers = [1, 2, 3, 2, 4, 5, 3, 6, 1]\n",
       "    print(\"Duplicates:\", find_duplicates(numbers))\n",
       "\n",
       "    num = 5\n",
       "    print(\"Factorial of\", num, \"is\", factorial(num))\n",
       "\n",
       "    # Check palindrome\n",
       "    word = \"racecar\"\n",
       "    if word == word[::-1]:\n",
       "        print(word, \"is a palindrome\")\n",
       "    else:\n",
       "        print(word, \"is not a palindrome\")\n",
       "\n",
       "if __name__ == \"__main__\":\n",
       "    main()\n",
       "```"
      ],
      "text/plain": [
       "<IPython.core.display.Markdown object>"
      ]
     },
     "execution_count": 33,
     "metadata": {},
     "output_type": "execute_result"
    }
   ],
   "source": [
    "response"
   ]
  },
  {
   "cell_type": "code",
   "execution_count": 34,
   "metadata": {},
   "outputs": [
    {
     "ename": "TypeError",
     "evalue": "'Markdown' object is not subscriptable",
     "output_type": "error",
     "traceback": [
      "\u001b[31m---------------------------------------------------------------------------\u001b[39m",
      "\u001b[31mTypeError\u001b[39m                                 Traceback (most recent call last)",
      "\u001b[36mCell\u001b[39m\u001b[36m \u001b[39m\u001b[32mIn[34]\u001b[39m\u001b[32m, line 1\u001b[39m\n\u001b[32m----> \u001b[39m\u001b[32m1\u001b[39m \u001b[43mresponse\u001b[49m\u001b[43m[\u001b[49m\u001b[32;43m0\u001b[39;49m\u001b[43m:\u001b[49m\u001b[32;43m10\u001b[39;49m\u001b[43m]\u001b[49m\n",
      "\u001b[31mTypeError\u001b[39m: 'Markdown' object is not subscriptable"
     ]
    }
   ],
   "source": [
    "response[0:10]"
   ]
  },
  {
   "cell_type": "code",
   "execution_count": null,
   "metadata": {},
   "outputs": [],
   "source": []
  }
 ],
 "metadata": {
  "kernelspec": {
   "display_name": ".venv",
   "language": "python",
   "name": "python3"
  },
  "language_info": {
   "codemirror_mode": {
    "name": "ipython",
    "version": 3
   },
   "file_extension": ".py",
   "mimetype": "text/x-python",
   "name": "python",
   "nbconvert_exporter": "python",
   "pygments_lexer": "ipython3",
   "version": "3.12.11"
  }
 },
 "nbformat": 4,
 "nbformat_minor": 2
}
